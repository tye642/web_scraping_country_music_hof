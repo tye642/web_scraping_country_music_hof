{
 "cells": [
  {
   "cell_type": "code",
   "execution_count": 1,
   "metadata": {},
   "outputs": [],
   "source": [
    "import requests\n",
    "from bs4 import BeautifulSoup  \n",
    "import pandas as pd"
   ]
  },
  {
   "cell_type": "code",
   "execution_count": 3,
   "metadata": {},
   "outputs": [
    {
     "data": {
      "text/plain": [
       "200"
      ]
     },
     "execution_count": 3,
     "metadata": {},
     "output_type": "execute_result"
    }
   ],
   "source": [
    "url = 'https://countrymusichalloffame.org/hall-of-fame/members/'\n",
    "response = requests.get(url)\n",
    "\n",
    "response.status_code"
   ]
  },
  {
   "cell_type": "code",
   "execution_count": 4,
   "metadata": {},
   "outputs": [
    {
     "name": "stdout",
     "output_type": "stream",
     "text": [
      "<class 'requests.models.Response'>\n"
     ]
    },
    {
     "data": {
      "text/plain": [
       "b'<!DOCTYPE html>\\n<html lang=\"en-US\">\\n<head>\\t\\n<!-- Google Tag Manager -->\\n\\n<script>(function(w,d,s,l,i){w[l]=w[l]||[];w[l].push({\\'gtm.start\\':\\n\\nnew Date().getTime(),event:\\'gtm.js\\'});var f=d.getElementsByTagName(s)[0],\\n\\nj=d.createElement(s),dl=l!=\\'dataLayer\\'?\\'&l=\\'+l:\\'\\';j.async=true;j.src=\\n\\n\\'https://www.googletagmanager.com/gtm.js?id=\\'+i+dl;f.parentNode.insertBefore(j,f);\\n\\n})(window,document,\\'script\\',\\'dataLayer\\',\\'GTM-TVMMMDC\\');</script>\\n\\n<!-- End Google Tag Manager -->\\n<meta charset=\"UTF-8\" />\\n<meta name=\\'viewport\\' content=\\'width=device-width, initial-scale=1.0\\' />\\n<meta http-equiv=\\'X-UA-Compatible\\' content=\\'IE=edge\\' />\\n<link rel=\"profile\" href=\"https://gmpg.org/xfn/11\" />\\n<link rel=\"pingback\" href=\"https://countrymusichalloffame.org/wp/xmlrpc.php\" />\\n<!--[if lt IE 9]>\\n\\t<script src=\"https://countrymusichalloffame.org/content/themes/bb-theme/js/html5shiv.js\"></script>\\n\\t<script src=\"https://countrymusichalloffame.org/content/themes/bb-theme/js/respond.min.js\"></script>\\n<![endif]-->\\n<title>Hall of Fame Members | Country Music Hall of Fame</title>\\n\\n<!-- This site is optimized with the Yoast SEO plugin v11.2.1 - https://yoast.com/wordpress/plugins/seo/ -->\\n<meta name=\"description\" content=\"Learn more about all of the current members of the Country Music Hall of Fame, country music&#039;s highest honor. New Hall of Fame members are inducted annually.\"/>\\n<link rel=\"canonical\" href=\"https://countrymusichalloffame.org/hall-of-fame/members/\" />\\n<meta property=\"og:locale\" content=\"en_US\" />\\n<meta property=\"og:type\" content=\"article\" />\\n<meta property=\"og:title\" content=\"Hall of Fame Members | Country Music Hall of Fame\" />\\n<meta property=\"og:description\" content=\"Learn more about all of the current members of the Country Music Hall of Fame, country music&#039;s highest honor. New Hall of Fame members are inducted annually.\" />\\n<meta property=\"og:url\" content=\"https://countrymusichalloffame.org/hall-of-fame/members/\" />\\n<meta property=\"og:site_name\" content=\"Country Music Hall of Fame\" />\\n<meta property=\"article:publisher\" content=\"https://www.facebook.com/countrymusichof\" />\\n<meta property=\"og:image\" content=\"https://cmhof.imgix.net/content/uploads/2019/04/CMHOF-PressReleases_Members-Header3.jpg\" />\\n<meta property=\"og:image:secure_url\" content=\"https://cmhof.imgix.net/content/uploads/2019/04/CMHOF-PressReleases_Members-Header3.jpg\" />\\n<meta name=\"twitter:card\" content=\"summary_large_image\" />\\n<meta name=\"twitter:description\" content=\"Learn more about all of the current members of the Country Music Hall of Fame, country music&#039;s highest honor. New Hall of Fame members are inducted annually.\" />\\n<meta name=\"twitter:title\" content=\"Hall of Fame Members | Country Music Hall of Fame\" />\\n<meta name=\"twitter:site\" content=\"@countrymusichof\" />\\n<meta name=\"twitter:image\" content=\"https://cmhof.imgix.net/content/uploads/2019/04/CMHOF-PressReleases_Members-Header3.jpg\" />\\n<meta name=\"twitter:creator\" content=\"@countrymusichof\" />\\n<script type=\\'application/ld+json\\' class=\\'yoast-schema-graph yoast-schema-graph--main\\'>{\"@context\":\"https://schema.org\",\"@graph\":[{\"@type\":\"Organization\",\"@id\":\"https://countrymusichalloffame.org/#organization\",\"name\":\"Country Music Hall of Fame\",\"url\":\"https://countrymusichalloffame.org/\",\"sameAs\":[\"https://www.facebook.com/countrymusichof\",\"http://instagram.com/officialcmhof\",\"http://www.youtube.com/user/countrymusichof\",\"https://twitter.com/countrymusichof\"],\"logo\":{\"@type\":\"ImageObject\",\"@id\":\"https://countrymusichalloffame.org/#logo\",\"url\":\"https://cmhof.imgix.net/content/uploads/2019/05/CMHOF-Logo.jpg\",\"caption\":\"Country Music Hall of Fame\"},\"image\":{\"@id\":\"https://countrymusichalloffame.org/#logo\"}},{\"@type\":\"WebSite\",\"@id\":\"https://countrymusichalloffame.org/#website\",\"url\":\"https://countrymusichalloffame.org/\",\"name\":\"Country Music Hall of Fame\",\"publisher\":{\"@id\":\"https://countrymusichalloffame.org/#organization\"},\"potentialAction\":{\"@type\":\"SearchAction\",\"target\":\"https://countrymusichalloffame.org/?s={search_term_string}\",\"query-input\":\"required name=search_term_string\"}},{\"@type\":\"WebPage\",\"@id\":\"https://countrymusichalloffame.org/hall-of-fame/members/#webpage\",\"url\":\"https://countrymusichalloffame.org/hall-of-fame/members/\",\"inLanguage\":\"en-US\",\"name\":\"Hall of Fame Members | Country Music Hall of Fame\",\"isPartOf\":{\"@id\":\"https://countrymusichalloffame.org/#website\"},\"image\":{\"@type\":\"ImageObject\",\"@id\":\"https://countrymusichalloffame.org/hall-of-fame/members/#primaryimage\",\"url\":\"https://cmhof.imgix.net/content/uploads/2019/04/CMHOF-PressReleases_Members-Header3.jpg\"},\"primaryImageOfPage\":{\"@id\":\"https://countrymusichalloffame.org/hall-of-fame/members/#primaryimage\"},\"datePublished\":\"2019-01-22T16:31:07+00:00\",\"dateModified\":\"2021-03-31T19:42:14+00:00\",\"description\":\"Learn more about all of the current members of the Country Music Hall of Fame, country music\\'s highest honor. New Hall of Fame members are inducted annually.\"}]}</script>\\n<!-- / Yoast SEO plugin. -->\\n\\n<link rel=\\'dns-prefetch\\' href=\\'//s.w.org\\' />\\n<link rel=\"alternate\" type=\"application/rss+xml\" title=\"Country Music Hall of Fame &raquo; Feed\" href=\"https://countrymusichalloffame.org/feed/\" />\\n<link rel=\"alternate\" type=\"application/rss+xml\" title=\"Country Music Hall of Fame &raquo; Comments Feed\" href=\"https://countrymusichalloffame.org/comments/feed/\" />\\n\\t\\t<script type=\"text/javascript\">\\n\\t\\t\\twindow._wpemojiSettings = {\"baseUrl\":\"https:\\\\/\\\\/s.w.org\\\\/images\\\\/core\\\\/emoji\\\\/11.2.0\\\\/72x72\\\\/\",\"ext\":\".png\",\"svgUrl\":\"https:\\\\/\\\\/s.w.org\\\\/images\\\\/core\\\\/emoji\\\\/11.2.0\\\\/svg\\\\/\",\"svgExt\":\".svg\",\"source\":{\"concatemoji\":\"https:\\\\/\\\\/countrymusichalloffame.org\\\\/wp\\\\/wp-includes\\\\/js\\\\/wp-emoji-release.min.js?ver=5.1.1\"}};\\n\\t\\t\\t!function(a,b,c){function d(a,b){var c=String.fromCharCode;l.clearRect(0,0,k.width,k.height),l.fillText(c.apply(this,a),0,0);var d=k.toDataURL();l.clearRect(0,0,k.width,k.height),l.fillText(c.apply(this,b),0,0);var e=k.toDataURL();return d===e}function e(a){var b;if(!l||!l.fillText)return!1;switch(l.textBaseline=\"top\",l.font=\"600 32px Arial\",a){case\"flag\":return!(b=d([55356,56826,55356,56819],[55356,56826,8203,55356,56819]))&&(b=d([55356,57332,56128,56423,56128,56418,56128,56421,56128,56430,56128,56423,56128,56447],[55356,57332,8203,56128,56423,8203,56128,56418,8203,56128,56421,8203,56128,56430,8203,56128,56423,8203,56128,56447]),!b);case\"emoji\":return b=d([55358,56760,9792,65039],[55358,56760,8203,9792,65039]),!b}return!1}function f(a){var c=b.createElement(\"script\");c.src=a,c.defer=c.type=\"text/javascript\",b.getElementsByTagName(\"head\")[0].appendChild(c)}var g,h,i,j,k=b.createElement(\"canvas\"),l=k.getContext&&k.getContext(\"2d\");for(j=Array(\"flag\",\"emoji\"),c.supports={everything:!0,everythingExceptFlag:!0},i=0;i<j.length;i++)c.supports[j[i]]=e(j[i]),c.supports.everything=c.supports.everything&&c.supports[j[i]],\"flag\"!==j[i]&&(c.supports.everythingExceptFlag=c.supports.everythingExceptFlag&&c.supports[j[i]]);c.supports.everythingExceptFlag=c.supports.everythingExceptFlag&&!c.supports.flag,c.DOMReady=!1,c.readyCallback=function(){c.DOMReady=!0},c.supports.everything||(h=function(){c.readyCallback()},b.addEventListener?(b.addEventListener(\"DOMContentLoaded\",h,!1),a.addEventListener(\"load\",h,!1)):(a.attachEvent(\"onload\",h),b.attachEvent(\"onreadystatechange\",function(){\"complete\"===b.readyState&&c.readyCallback()})),g=c.source||{},g.concatemoji?f(g.concatemoji):g.wpemoji&&g.twemoji&&(f(g.twemoji),f(g.wpemoji)))}(window,document,window._wpemojiSettings);\\n\\t\\t</script>\\n\\t\\t<style type=\"text/css\">\\nimg.wp-smiley,\\nimg.emoji {\\n\\tdisplay: inline !important;\\n\\tborder: none !important;\\n\\tbox-shadow: none !important;\\n\\theight: 1em !important;\\n\\twidth: 1em !important;\\n\\tmargin: 0 .07em !important;\\n\\tvertical-align: -0.1em !important;\\n\\tbackground: none !important;\\n\\tpadding: 0 !important;\\n}\\n</style>\\n\\t<link rel=\\'stylesheet\\' id=\\'wp-block-library-css\\'  href=\\'https://countrymusichalloffame.org/wp/wp-includes/css/dist/block-library/style.min.css?ver=5.1.1\\' type=\\'text/css\\' media=\\'all\\' />\\n<link rel=\\'stylesheet\\' id=\\'wp-block-library-theme-css\\'  href=\\'https://countrymusichalloffame.org/wp/wp-includes/css/dist/block-library/theme.min.css?ver=5.1.1\\' type=\\'text/css\\' media=\\'all\\' />\\n<link rel=\\'stylesheet\\' id=\\'5by5-plugin-styles-css\\'  href=\\'https://countrymusichalloffame.org/content/plugins/5by5-plugin/assets/css/plugin-main.min.css?ver=5.1.1\\' type=\\'text/css\\' media=\\'all\\' />\\n<link rel=\\'stylesheet\\' id=\\'fl-builder-layout-12-css\\'  href=\\'https://countrymusichalloffame.org/content/uploads/bb-plugin/cache/12-layout.css?ver=de6ed36f85a1ab493dfd9b920ed5263a\\' type=\\'text/css\\' media=\\'all\\' />\\n<link rel=\\'stylesheet\\' id=\\'fl-builder-layout-bundle-7c517305b2d6731e386e9c1dc00217d5-css\\'  href=\\'https://countrymusichalloffame.org/content/uploads/bb-plugin/cache/7c517305b2d6731e386e9c1dc00217d5-layout-bundle.css?ver=2.2.3-1.2.3.4\\' type=\\'text/css\\' media=\\'all\\' />\\n<link rel=\\'stylesheet\\' id=\\'child-main-styles-css\\'  href=\\'https://countrymusichalloffame.org/content/themes/cmhof-theme/assets/css/main.min.css?ver=1.0.0\\' type=\\'text/css\\' media=\\'all\\' />\\n<link rel=\\'stylesheet\\' id=\\'cmhof-plugin-styles-css\\'  href=\\'https://countrymusichalloffame.org/content/plugins/cmhof-plugin/_assets/css/components.min.css?ver=5.1.1\\' type=\\'text/css\\' media=\\'all\\' />\\n<link rel=\\'stylesheet\\' id=\\'jquery-magnificpopup-css\\'  href=\\'https://countrymusichalloffame.org/content/plugins/bb-plugin/css/jquery.magnificpopup.min.css?ver=2.2.3\\' type=\\'text/css\\' media=\\'all\\' />\\n<link rel=\\'stylesheet\\' id=\\'base-css\\'  href=\\'https://countrymusichalloffame.org/content/themes/bb-theme/css/base.min.css?ver=1.7.2\\' type=\\'text/css\\' media=\\'all\\' />\\n<link rel=\\'stylesheet\\' id=\\'fl-automator-skin-css\\'  href=\\'https://countrymusichalloffame.org/content/uploads/bb-theme/skin-5ec3cb1be2817.css?ver=1.7.2\\' type=\\'text/css\\' media=\\'all\\' />\\n<script type=\\'text/javascript\\' src=\\'https://countrymusichalloffame.org/wp/wp-includes/js/jquery/jquery.js?ver=1.12.4\\'></script>\\n<script type=\\'text/javascript\\' src=\\'https://countrymusichalloffame.org/wp/wp-includes/js/jquery/jquery-migrate.min.js?ver=1.4.1\\'></script>\\n<script type=\\'text/javascript\\' src=\\'https://countrymusichalloffame.org/wp/wp-includes/js/imagesloaded.min.js?ver=5.1.1\\'></script>\\n<link rel=\\'https://api.w.org/\\' href=\\'https://countrymusichalloffame.org/wp-json/\\' />\\n<link rel=\"EditURI\" type=\"application/rsd+xml\" title=\"RSD\" href=\"https://countrymusichalloffame.org/wp/xmlrpc.php?rsd\" />\\n<link rel=\"wlwmanifest\" type=\"application/wlwmanifest+xml\" href=\"https://countrymusichalloffame.org/wp/wp-includes/wlwmanifest.xml\" /> \\n<meta name=\"generator\" content=\"WordPress 5.1.1\" />\\n<link rel=\\'shortlink\\' href=\\'https://countrymusichalloffame.org/?p=12\\' />\\n<link rel=\"alternate\" type=\"application/json+oembed\" href=\"https://countrymusichalloffame.org/wp-json/oembed/1.0/embed?url=https%3A%2F%2Fcountrymusichalloffame.org%2Fhall-of-fame%2Fmembers%2F\" />\\n<link rel=\"alternate\" type=\"text/xml+oembed\" href=\"https://countrymusichalloffame.org/wp-json/oembed/1.0/embed?url=https%3A%2F%2Fcountrymusichalloffame.org%2Fhall-of-fame%2Fmembers%2F&#038;format=xml\" />\\n\\n\\t\\t<script>\\n\\t\\t(function(h,o,t,j,a,r){\\n\\t\\t\\th.hj=h.hj||function(){(h.hj.q=h.hj.q||[]).push(arguments)};\\n\\t\\t\\th._hjSettings={hjid:1263612,hjsv:5};\\n\\t\\t\\ta=o.getElementsByTagName(\\'head\\')[0];\\n\\t\\t\\tr=o.createElement(\\'script\\');r.async=1;\\n\\t\\t\\tr.src=t+h._hjSettings.hjid+j+h._hjSettings.hjsv;\\n\\t\\t\\ta.appendChild(r);\\n\\t\\t})(window,document,\\'//static.hotjar.com/c/hotjar-\\',\\'.js?sv=\\');\\n\\t\\t</script>\\n\\t\\t\\t\\t<style type=\"text/css\">.recentcomments a{display:inline !important;padding:0 !important;margin:0 !important;}</style>\\n\\t\\t<link rel=\"icon\" href=\"https://cmhof.imgix.net/content/uploads/2019/03/11072729/cropped-cmhof-logo-150x150.png\" sizes=\"32x32\" />\\n<link rel=\"icon\" href=\"https://cmhof.imgix.net/content/uploads/2019/03/11072729/cropped-cmhof-logo-300x300.png\" sizes=\"192x192\" />\\n<link rel=\"apple-touch-icon-precomposed\" href=\"https://cmhof.imgix.net/content/uploads/2019/03/11072729/cropped-cmhof-logo-300x300.png\" />\\n<meta name=\"msapplication-TileImage\" content=\"https://cmhof.imgix.net/content/uploads/2019/03/11072729/cropped-cmhof-logo-300x300.png\" />\\n</head>\\n\\n<body class=\"page-template-default page page-id-12 page-child parent-pageid-10 fl-builder fl-theme-builder-header fl-theme-builder-footer cmhof fl-framework-base fl-preset-default fl-full-width fl-search-active\" itemscope=\"itemscope\" itemtype=\"https://schema.org/WebPage\">\\n\\t<!-- Google Tag Manager (noscript) -->\\n\\n<noscript><iframe src=\"https://www.googletagmanager.com/ns.html?id=GTM-TVMMMDC\"\\n\\nheight=\"0\" width=\"0\" style=\"display:none;visibility:hidden\"></iframe></noscript>\\n\\n<!-- End Google Tag Manager (noscript) -->\\n\\n\\n\\n\\n<!-- Quick Alert Banner -->\\n<!-- ------------------------------------------------------------------------------------------------------------------------- -->\\n\\t<div class=\"quick-alert-banner js-quick-alert-banner\">\\n\\t\\t<div class=\"quick-alert-banner-container\">\\n\\t\\t\\t<div class=\"quick-alert-banner_content\">\\n\\t\\t\\t\\t<div class=\"quick-alert-banner_content--close\">\\n\\t\\t\\t\\t\\t<i class=\"fas fa-times-circle\"></i>\\n\\t\\t\\t\\t</div>\\n\\t\\t\\t\\t<div class=\"quick-alert-banner_content--copy\">\\n\\t\\t\\t\\t\\t<p><body>\\r\\n  <a href=\"https://countrymusichalloffame.org/buy-tickets/\" style=\"color:#FFFFFF;\">TICKET AVAILABILITY IS LIMITED. PLEASE RESERVE YOUR TIMED TICKET BY PHONE AT 615-416-2001 OR BY CLICKING HERE.\\r\\n </a>\\r\\n</body>\\r\\n</p>\\n\\t\\t\\t\\t</div>\\n\\t\\t\\t</div>\\n\\t\\t</div>\\n\\t</div>\\n<!-- /Quick Alert Banner -->\\n<!-- ------------------------------------------------------------------------------------------------------------------------- -->\\n\\n\\n<div class=\"fl-page\">\\n\\t<header class=\"fl-builder-content fl-builder-content-60 fl-builder-global-templates-locked\" data-post-id=\"60\" itemscope=\"itemscope\" itemtype=\"http://schema.org/WPHeader\" data-type=\"header\" data-sticky=\"0\" data-shrink=\"0\" data-overlay=\"0\" data-overlay-bg=\"transparent\"><div class=\"fl-row fl-row-full-width fl-row-bg-none fl-node-5c48c30b68d6b top-bar\" data-node=\"5c48c30b68d6b\">\\n\\t<div class=\"fl-row-content-wrap\">\\n\\t\\t\\t\\t\\t\\t<div class=\"fl-row-content fl-row-fixed-width fl-node-content\">\\n\\t\\t\\n<div class=\"fl-col-group fl-node-5c48c30b6c39e\" data-node=\"5c48c30b6c39e\">\\n\\t\\t\\t<div class=\"fl-col fl-node-5c48c30b6c4bc fl-col-small sites-nav\" data-node=\"5c48c30b6c4bc\">\\n\\t<div class=\"fl-col-content fl-node-content\">\\n\\t<div class=\"fl-module fl-module-menu fl-node-5c48c3512e029\" data-node=\"5c48c3512e029\">\\n\\t<div class=\"fl-module-content fl-node-content\">\\n\\t\\t<div class=\"fl-menu\">\\n\\t\\t<div class=\"fl-clear\"></div>\\n\\t<nav aria-label=\"Menu\" itemscope=\"itemscope\" itemtype=\"https://schema.org/SiteNavigationElement\"><ul id=\"menu-top-navigation\" class=\"menu fl-menu-horizontal fl-toggle-none\"><li id=\"menu-item-50\" class=\"select-another-site menu-item menu-item-type-custom menu-item-object-custom\"><a href=\"#\">Select Another Site</a></li><li id=\"menu-item-52\" class=\"menu-item menu-item-type-custom menu-item-object-custom\"><a href=\"https://hatchshowprint.com/\">Hatch Show Print</a></li><li id=\"menu-item-53\" class=\"menu-item menu-item-type-custom menu-item-object-custom\"><a href=\"https://studiob.org\">Historic RCA Studio B</a></li><li id=\"menu-item-54\" class=\"menu-item menu-item-type-custom menu-item-object-custom\"><a href=\"https://cmatheater.com\">CMA Theater</a></li></ul></nav></div>\\n\\t</div>\\n</div>\\n\\t</div>\\n</div>\\n\\t\\t\\t<div class=\"fl-col fl-node-5ca53a28bbf36 fl-col-small nav-hours\" data-node=\"5ca53a28bbf36\">\\n\\t<div class=\"fl-col-content fl-node-content\">\\n\\t<div class=\"fl-module fl-module-rich-text fl-node-5ca53a28bbe0b\" data-node=\"5ca53a28bbe0b\">\\n\\t<div class=\"fl-module-content fl-node-content\">\\n\\t\\t<div class=\"fl-rich-text\">\\n\\t<p style=\"text-align: center;\">Open Daily</p>\\n</div>\\n\\t</div>\\n</div>\\n\\t</div>\\n</div>\\n\\t\\t\\t<div class=\"fl-col fl-node-5c48c30b6c4c2 fl-col-small middle-nav\" data-node=\"5c48c30b6c4c2\">\\n\\t<div class=\"fl-col-content fl-node-content\">\\n\\t<div class=\"fl-module fl-module-menu fl-node-5c6c6ebd51a0b\" data-node=\"5c6c6ebd51a0b\">\\n\\t<div class=\"fl-module-content fl-node-content\">\\n\\t\\t<div class=\"fl-menu fl-menu-responsive-toggle-mobile\">\\n\\t<button class=\"fl-menu-mobile-toggle hamburger\" aria-label=\"Menu\"><span class=\"svg-container\"><svg version=\"1.1\" class=\"hamburger-menu\" xmlns=\"http://www.w3.org/2000/svg\" xmlns:xlink=\"http://www.w3.org/1999/xlink\" viewBox=\"0 0 512 512\">\\n<rect class=\"fl-hamburger-menu-top\" width=\"512\" height=\"102\"/>\\n<rect class=\"fl-hamburger-menu-middle\" y=\"205\" width=\"512\" height=\"102\"/>\\n<rect class=\"fl-hamburger-menu-bottom\" y=\"410\" width=\"512\" height=\"102\"/>\\n</svg>\\n</span></button>\\t<div class=\"fl-clear\"></div>\\n\\t<nav aria-label=\"Menu\" itemscope=\"itemscope\" itemtype=\"https://schema.org/SiteNavigationElement\"><ul id=\"menu-member-navigation\" class=\"menu fl-menu-horizontal fl-toggle-none\"><li id=\"menu-item-392\" class=\"menu-item menu-item-type-custom menu-item-object-custom\"><a href=\"/support/membership/\">Become a Museum Member</a></li><li id=\"menu-item-393\" class=\"menu-item menu-item-type-custom menu-item-object-custom\"><a href=\"/tickets-sign-in\">Museum Member Log In</a></li></ul></nav></div>\\n\\t</div>\\n</div>\\n\\t</div>\\n</div>\\n\\t\\t\\t<div class=\"fl-col fl-node-5c48c30b6c4c6 fl-col-small right-nav\" data-node=\"5c48c30b6c4c6\">\\n\\t<div class=\"fl-col-content fl-node-content\">\\n\\t<div class=\"fl-module fl-module-menu fl-node-5c9950e6304c5\" data-node=\"5c9950e6304c5\">\\n\\t<div class=\"fl-module-content fl-node-content\">\\n\\t\\t<div class=\"fl-menu\">\\n\\t\\t<div class=\"fl-clear\"></div>\\n\\t<nav aria-label=\"Menu\" itemscope=\"itemscope\" itemtype=\"https://schema.org/SiteNavigationElement\"><ul id=\"menu-top-navigation-right-navigation\" class=\"menu fl-menu-horizontal fl-toggle-none\"><li id=\"menu-item-5609\" class=\"nav-search-icon menu-item menu-item-type-custom menu-item-object-custom\"><a href=\"#\"><i class=\"nav-search-icon\"></i></a></li></ul></nav></div>\\n\\t</div>\\n</div>\\n<div class=\"fl-module fl-module-widget fl-node-5c99518f82728 search-input\" data-node=\"5c99518f82728\">\\n\\t<div class=\"fl-module-content fl-node-content\">\\n\\t\\t<div class=\"fl-widget\">\\n<div class=\"widget widget_search\"><form method=\"get\" role=\"search\" action=\"https://countrymusichalloffame.org/\" title=\"Type and press Enter to search.\">\\n\\t<input type=\"search\" class=\"fl-search-input form-control\" name=\"s\" value=\"Search\" onfocus=\"if (this.value == \\'Search\\') { this.value = \\'\\'; }\" onblur=\"if (this.value == \\'\\') this.value=\\'Search\\';\" />\\n</form>\\n</div></div>\\n\\t</div>\\n</div>\\n<div class=\"fl-module fl-module-html fl-node-5ca654414424c\" data-node=\"5ca654414424c\">\\n\\t<div class=\"fl-module-content fl-node-content\">\\n\\t\\t<div class=\"fl-html\">\\n\\t\\n  <div class=\"header-shopping-cart\" style=\"width:20px;\">\\n    <a href=\"https://secure.countrymusichalloffame.org/cart/details\" postition=>\\n      <svg xmlns=\"http://www.w3.org/2000/svg\" x=\"0px\" y=\"0px\" width=\"24\" height=\"24\" viewBox=\"0 0 192 192\" style=\" fill:#000000;\">\\n        <g fill=\"none\" fill-rule=\"nonzero\" stroke=\"none\" stroke-width=\"1\" stroke-linecap=\"butt\" stroke-linejoin=\"miter\" stroke-miterlimit=\"10\" stroke-dasharray=\"\" stroke-dashoffset=\"0\" font-family=\"none\" font-weight=\"none\" font-size=\"none\" text-anchor=\"none\" style=\"mix-blend-mode: normal\"><path d=\"M0,192v-192h192v192z\" fill=\"none\"></path><g fill=\"#ffffff\"><path d=\"M35.32812,15.96875l-27.29688,0.14062l0.07813,16l16.5625,-0.07813l26.35937,63.23437l-9.57812,15.3125c-6.70684,10.71001 1.4483,25.42187 14.07812,25.42187h96.46875v-16h-96.46875c-0.89018,0 -0.99282,-0.17543 -0.51562,-0.9375l9.40625,-15.0625h59.75c5.808,0 11.16838,-3.15438 13.98438,-8.23438l28.8125,-51.89062c2.968,-5.328 -0.88838,-11.875 -6.98438,-11.875h-117.98438zM56,144c-8.83656,0 -16,7.16344 -16,16c0,8.83656 7.16344,16 16,16c8.83656,0 16,-7.16344 16,-16c0,-8.83656 -7.16344,-16 -16,-16zM136,144c-8.83656,0 -16,7.16344 -16,16c0,8.83656 7.16344,16 16,16c8.83656,0 16,-7.16344 16,-16c0,-8.83656 -7.16344,-16 -16,-16z\"></path></g></g>\\n      </svg>\\n      <span class=\"cart-number\" id=\"cart-count\">0</span>\\n    </a>\\n  </div> </div>\\n\\t</div>\\n</div>\\n\\t</div>\\n</div>\\n\\t</div>\\n\\t\\t</div>\\n\\t</div>\\n</div>\\n<div class=\"fl-row fl-row-full-width fl-row-bg-none fl-node-5c4787070f9ea c-header\" data-node=\"5c4787070f9ea\">\\n\\t<div class=\"fl-row-content-wrap\">\\n\\t\\t\\t\\t\\t\\t<div class=\"fl-row-content fl-row-fixed-width fl-node-content\">\\n\\t\\t\\n<div class=\"fl-col-group fl-node-5c47870711df8\" data-node=\"5c47870711df8\">\\n\\t\\t\\t<div class=\"fl-col fl-node-5c47870711edf fl-col-small\" data-node=\"5c47870711edf\">\\n\\t<div class=\"fl-col-content fl-node-content\">\\n\\t<div class=\"fl-module fl-module-html fl-node-5ca3b52526a16\" data-node=\"5ca3b52526a16\">\\n\\t<div class=\"fl-module-content fl-node-content\">\\n\\t\\t<div class=\"fl-html\">\\n\\t<a href=\"/\"><img src=\\'https://cmhof.imgix.net/content/uploads/2019/04/11072205/cmhof-logo-round.png\\'></a></div>\\n\\t</div>\\n</div>\\n\\t</div>\\n</div>\\n\\t\\t\\t<div class=\"fl-col fl-node-5c47870711ee5\" data-node=\"5c47870711ee5\">\\n\\t<div class=\"fl-col-content fl-node-content\">\\n\\t<div class=\"fl-module fl-module-menu fl-node-5c478752e6855\" data-node=\"5c478752e6855\">\\n\\t<div class=\"fl-module-content fl-node-content\">\\n\\t\\t<div class=\"fl-menu fl-menu-responsive-toggle-mobile\">\\n\\t<button class=\"fl-menu-mobile-toggle hamburger\" aria-label=\"Menu\"><span class=\"svg-container\"><svg version=\"1.1\" class=\"hamburger-menu\" xmlns=\"http://www.w3.org/2000/svg\" xmlns:xlink=\"http://www.w3.org/1999/xlink\" viewBox=\"0 0 512 512\">\\n<rect class=\"fl-hamburger-menu-top\" width=\"512\" height=\"102\"/>\\n<rect class=\"fl-hamburger-menu-middle\" y=\"205\" width=\"512\" height=\"102\"/>\\n<rect class=\"fl-hamburger-menu-bottom\" y=\"410\" width=\"512\" height=\"102\"/>\\n</svg>\\n</span></button>\\t<div class=\"fl-clear\"></div>\\n\\t<nav aria-label=\"Menu\" itemscope=\"itemscope\" itemtype=\"https://schema.org/SiteNavigationElement\"><ul id=\"menu-main-navigation\" class=\"menu fl-menu-horizontal fl-toggle-none\"><li id=\"menu-item-678\" class=\"menu-item menu-item-type-custom menu-item-object-custom current-menu-item current-menu-ancestor current-menu-parent menu-item-has-children fl-has-submenu\"><div class=\"fl-has-submenu-container\"><a href=\"/hall-of-fame/members/\">Hall of Fame</a><span class=\"fl-menu-toggle\"></span></div><ul class=\"sub-menu\">\\t<li id=\"menu-item-40\" class=\"menu-item menu-item-type-post_type menu-item-object-page current-menu-item page_item page-item-12 current_page_item\"><a href=\"https://countrymusichalloffame.org/hall-of-fame/members/\">Members</a></li>\\t<li id=\"menu-item-7485\" class=\"menu-item menu-item-type-post_type menu-item-object-page\"><a href=\"https://countrymusichalloffame.org/hall-of-fame/hall-of-fame-rotunda/induction-ceremony-medallion/\">Induction: Medallion Ceremony</a></li>\\t<li id=\"menu-item-7483\" class=\"menu-item menu-item-type-post_type menu-item-object-page\"><a href=\"https://countrymusichalloffame.org/hall-of-fame/hall-of-fame-rotunda/election-process/\">Election Process</a></li>\\t<li id=\"menu-item-39\" class=\"menu-item menu-item-type-post_type menu-item-object-page menu-item-has-children fl-has-submenu\"><div class=\"fl-has-submenu-container\"><a href=\"https://countrymusichalloffame.org/hall-of-fame/hall-of-fame-rotunda/\">Hall of Fame Rotunda</a><span class=\"fl-menu-toggle\"></span></div><ul class=\"sub-menu\">\\t\\t<li id=\"menu-item-12695\" class=\"menu-item menu-item-type-post_type menu-item-object-page\"><a href=\"https://countrymusichalloffame.org/architecture/\">Architecture</a></li>\\t\\t<li id=\"menu-item-12589\" class=\"menu-item menu-item-type-post_type menu-item-object-page\"><a href=\"https://countrymusichalloffame.org/plaques/\">Plaques</a></li></ul></li>\\t<li id=\"menu-item-13399\" class=\"menu-item menu-item-type-post_type menu-item-object-page menu-item-has-children fl-has-submenu\"><div class=\"fl-has-submenu-container\"><a href=\"https://countrymusichalloffame.org/circle-guard/\">Circle Guard</a><span class=\"fl-menu-toggle\"></span></div><ul class=\"sub-menu\">\\t\\t<li id=\"menu-item-13400\" class=\"menu-item menu-item-type-post_type menu-item-object-page\"><a href=\"https://countrymusichalloffame.org/rite-of-remembrance/\">Rite of Remembrance and Salute</a></li>\\t\\t<li id=\"menu-item-13401\" class=\"menu-item menu-item-type-post_type menu-item-object-page\"><a href=\"https://countrymusichalloffame.org/ceremonial-stole/\">Ceremonial Stole</a></li></ul></li>\\t<li id=\"menu-item-16988\" class=\"menu-item menu-item-type-custom menu-item-object-custom\"><a href=\"https://countrymusichalloffame.org/donate\">Support the Hall</a></li></ul></li><li id=\"menu-item-37\" class=\"menu-item menu-item-type-post_type menu-item-object-page menu-item-has-children fl-has-submenu\"><div class=\"fl-has-submenu-container\"><a href=\"https://countrymusichalloffame.org/collections/\">Collections</a><span class=\"fl-menu-toggle\"></span></div><ul class=\"sub-menu\">\\t<li id=\"menu-item-672\" class=\"menu-item menu-item-type-custom menu-item-object-custom\"><a target=\"_blank\" href=\"http://digi.countrymusichalloffame.org/\">Digital Archive</a></li>\\t<li id=\"menu-item-738\" class=\"menu-item menu-item-type-post_type menu-item-object-page\"><a href=\"https://countrymusichalloffame.org/collections/moving-image-collection/\">Moving Image Collection</a></li>\\t<li id=\"menu-item-1667\" class=\"menu-item menu-item-type-post_type menu-item-object-page\"><a href=\"https://countrymusichalloffame.org/collections/bob-pinson-recorded-sound-collection/\">Bob Pinson Recorded Sound Collection</a></li>\\t<li id=\"menu-item-740\" class=\"menu-item menu-item-type-post_type menu-item-object-page\"><a href=\"https://countrymusichalloffame.org/collections/photographs/\">Photographs</a></li>\\t<li id=\"menu-item-744\" class=\"menu-item menu-item-type-custom menu-item-object-custom\"><a href=\"https://artsandculture.google.com/partner/country-music-hall-of-fame\">Google Arts &#038; Culture</a></li>\\t<li id=\"menu-item-17951\" class=\"menu-item menu-item-type-post_type menu-item-object-page\"><a href=\"https://countrymusichalloffame.org/collectionsdonations/\">Donate to the Collection</a></li></ul></li><li id=\"menu-item-41\" class=\"menu-item menu-item-type-post_type menu-item-object-page menu-item-has-children fl-has-submenu\"><div class=\"fl-has-submenu-container\"><a href=\"https://countrymusichalloffame.org/education/\">Education</a><span class=\"fl-menu-toggle\"></span></div><ul class=\"sub-menu\">\\t<li id=\"menu-item-43\" class=\"menu-item menu-item-type-post_type menu-item-object-page menu-item-has-children fl-has-submenu\"><div class=\"fl-has-submenu-container\"><a href=\"https://countrymusichalloffame.org/education/school-programs/\">School Programs</a><span class=\"fl-menu-toggle\"></span></div><ul class=\"sub-menu\">\\t\\t<li id=\"menu-item-13277\" class=\"menu-item menu-item-type-custom menu-item-object-custom\"><a href=\"https://countrymusichalloffame.org/plan-your-visit/field-trips/\">Plan A Field Trip</a></li></ul></li>\\t<li id=\"menu-item-44\" class=\"menu-item menu-item-type-post_type menu-item-object-page\"><a href=\"https://countrymusichalloffame.org/education/distance-learning/\">Distance &#038; Virtual Learning</a></li>\\t<li id=\"menu-item-21432\" class=\"menu-item menu-item-type-custom menu-item-object-custom\"><a href=\"https://countrymusichalloffame.org/wordsandmusic/\">Words &#038; Music</a></li>\\t<li id=\"menu-item-21421\" class=\"menu-item menu-item-type-post_type menu-item-object-page\"><a href=\"https://countrymusichalloffame.org/education/teacher-resource-portal/\">Teacher &#038; Student Resource Portal</a></li>\\t<li id=\"menu-item-7492\" class=\"menu-item menu-item-type-post_type menu-item-object-page\"><a href=\"https://countrymusichalloffame.org/plan-your-visit/exhibits-activities/family-youth-programs/\">Youth &#038; Family Programs</a></li>\\t<li id=\"menu-item-45\" class=\"menu-item menu-item-type-post_type menu-item-object-page\"><a href=\"https://countrymusichalloffame.org/education/community-library-programs/\">Community &#038; Library Programs</a></li>\\t<li id=\"menu-item-742\" class=\"menu-item menu-item-type-post_type menu-item-object-page\"><a href=\"https://countrymusichalloffame.org/education/instruments/\">Instruments</a></li></ul></li><li id=\"menu-item-48\" class=\"menu-item menu-item-type-post_type menu-item-object-page menu-item-has-children fl-has-submenu\"><div class=\"fl-has-submenu-container\"><a href=\"https://countrymusichalloffame.org/watch-listen/\">Watch &#038; Listen</a><span class=\"fl-menu-toggle\"></span></div><ul class=\"sub-menu\">\\t<li id=\"menu-item-21275\" class=\"menu-item menu-item-type-custom menu-item-object-custom\"><a href=\"https://watch.countrymusichalloffame.org/browse\">Videos</a></li>\\t<li id=\"menu-item-72\" class=\"menu-item menu-item-type-post_type menu-item-object-page\"><a href=\"https://countrymusichalloffame.org/podcasts/\">Podcasts</a></li>\\t<li id=\"menu-item-13691\" class=\"menu-item menu-item-type-post_type menu-item-object-page\"><a href=\"https://countrymusichalloffame.org/watch-listen/videos/live-streaming/\">Livestreams</a></li></ul></li><li id=\"menu-item-46\" class=\"hide-item menu-item menu-item-type-post_type menu-item-object-page menu-item-has-children fl-has-submenu\"><div class=\"fl-has-submenu-container\"><a href=\"https://countrymusichalloffame.org/plan-your-visit/\">Plan Your Visit</a><span class=\"fl-menu-toggle\"></span></div><ul class=\"sub-menu\">\\t<li id=\"menu-item-18020\" class=\"menu-item menu-item-type-post_type menu-item-object-page\"><a href=\"https://countrymusichalloffame.org/covid-19-policies-and-procedures/\">COVID-19 Policies and Procedures</a></li>\\t<li id=\"menu-item-21127\" class=\"menu-item menu-item-type-post_type menu-item-object-page\"><a href=\"https://countrymusichalloffame.org/museum-policies-accessibility-faq/\">Policies, Accessibility &#038; FAQ</a></li>\\t<li id=\"menu-item-9227\" class=\"menu-item menu-item-type-post_type menu-item-object-page\"><a href=\"https://countrymusichalloffame.org/current-exhibits/\">Current Exhibits</a></li>\\t<li id=\"menu-item-7490\" class=\"menu-item menu-item-type-custom menu-item-object-custom\"><a href=\"https://countrymusichalloffame.org/plan-your-visit/exhibits-activities/calendar/\">Calendar</a></li>\\t<li id=\"menu-item-2081\" class=\"menu-item menu-item-type-custom menu-item-object-custom\"><a href=\"https://cmhof.imgix.net/content/uploads/2020/08/MUS_OnProp_ReOpening_Maps_20_Rev.pdf\">Download Visitor&#8217;s Guide</a></li>\\t<li id=\"menu-item-7234\" class=\"menu-item menu-item-type-post_type menu-item-object-page\"><a href=\"https://countrymusichalloffame.org/community-counts-2/\">Locals Admission</a></li>\\t<li id=\"menu-item-544\" class=\"menu-item menu-item-type-post_type menu-item-object-page\"><a href=\"https://countrymusichalloffame.org/plan-your-visit/international-visitors/\">International Visitors</a></li>\\t<li id=\"menu-item-13079\" class=\"menu-item menu-item-type-custom menu-item-object-custom\"><a href=\"https://countrymusichalloffame.org/plan-your-visit/exhibits-activities/family-youth-programs/\">Youth &#038; Family Programs</a></li>\\t<li id=\"menu-item-7491\" class=\"menu-item menu-item-type-post_type menu-item-object-page\"><a href=\"https://countrymusichalloffame.org/plan-your-visit/exhibits-activities/public-programs/\">Public Programs</a></li>\\t<li id=\"menu-item-543\" class=\"menu-item menu-item-type-post_type menu-item-object-page\"><a href=\"https://countrymusichalloffame.org/plan-your-visit/hours-directions-parking/\">Hours, Directions &#038; Parking</a></li>\\t<li id=\"menu-item-546\" class=\"menu-item menu-item-type-post_type menu-item-object-page\"><a href=\"https://countrymusichalloffame.org/plan-your-visit/shopping-dining/\">Shopping &#038; Dining</a></li>\\t<li id=\"menu-item-541\" class=\"menu-item menu-item-type-post_type menu-item-object-page\"><a href=\"https://countrymusichalloffame.org/plan-your-visit/group-tours/\">Group Tours</a></li>\\t<li id=\"menu-item-540\" class=\"menu-item menu-item-type-post_type menu-item-object-page\"><a href=\"https://countrymusichalloffame.org/plan-your-visit/field-trips/\">Field Trips</a></li>\\t<li id=\"menu-item-573\" class=\"menu-item menu-item-type-custom menu-item-object-custom\"><a href=\"https://reservations.arestravel.com/site/welcome/9509/lodging\">Hotel Packages</a></li></ul></li><li id=\"menu-item-19266\" class=\"menu-item menu-item-type-custom menu-item-object-custom\"><a href=\"https://shop.countrymusichalloffame.org/\">Shop</a></li><li id=\"menu-item-16989\" class=\"menu-item menu-item-type-custom menu-item-object-custom\"><a href=\"https://secure.countrymusichalloffame.org/donate/q/donate\">Donate</a></li><li id=\"menu-item-47\" class=\"action-nav-item hide-item menu-item menu-item-type-post_type menu-item-object-page\"><a href=\"https://countrymusichalloffame.org/buy-tickets/\">Buy Tickets</a></li></ul></nav></div>\\n\\t</div>\\n</div>\\n\\t</div>\\n</div>\\n\\t</div>\\n\\t\\t</div>\\n\\t</div>\\n</div>\\n</header>\\n    <!-- Begin Mobile Nav For Main Site -->\\n    <div class=\"mobile-nav-container\">\\n        <div class=\"mobile-sites-links\">\\n            <div class=\"menu-mobile-select-site-navigation-container\"><ul id=\"menu-mobile-select-site-navigation\" class=\"menu\"><li id=\"menu-item-388\" class=\"menu-item menu-item-type-custom menu-item-object-custom menu-item-has-children menu-item-388\"><a href=\"#\">Select Another Site</a>\\n<ul class=\"sub-menu\">\\n\\t<li id=\"menu-item-389\" class=\"menu-item menu-item-type-custom menu-item-object-custom menu-item-389\"><a target=\"_blank\" href=\"https://hatchshowprint.com/\">Hatch Show Print</a></li>\\n\\t<li id=\"menu-item-390\" class=\"menu-item menu-item-type-custom menu-item-object-custom menu-item-390\"><a target=\"_blank\" href=\"https://studiob.org/\">Historic RCA Studio B</a></li>\\n\\t<li id=\"menu-item-391\" class=\"menu-item menu-item-type-custom menu-item-object-custom menu-item-391\"><a target=\"_blank\" href=\"https://cmatheater.com/\">CMA Theater</a></li>\\n</ul>\\n</li>\\n</ul></div>        </div>\\n        <div class=\"mobile-nav-background\"></div>\\n\\n        <div class=\"mobile-nav-topbar\">\\n            <a class=\"mobile-nav-topbar_logo\" href=\"/\"><img src=\"https://cmhof.imgix.net/content/uploads/2019/04/11072205/cmhof-logo-round.png\"></a>        </div>\\n\\n        <div class=\"mobile-nav-hamburger\">\\n            <div class=\"burger_text\">Menu</div>\\n            <div class=\"burger\">\\n                <span></span>\\n                <span></span>\\n            </div>\\n        </div>\\n\\n        <div class=\"mobile-nav-menu\">\\n            <div class=\"mobile-nav-menu-links\">\\n                <div class=\"menu-main-navigation-container\"><ul id=\"menu-main-navigation-1\" class=\"menu\"><li id=\"menu-item-678\" class=\"menu-item menu-item-type-custom menu-item-object-custom current-menu-item current-menu-ancestor current-menu-parent menu-item-has-children menu-item-678\"><a href=\"/hall-of-fame/members/\" aria-current=\"page\">Hall of Fame</a>\\n<ul class=\"sub-menu\">\\n\\t<li id=\"menu-item-40\" class=\"menu-item menu-item-type-post_type menu-item-object-page current-menu-item page_item page-item-12 current_page_item menu-item-40\"><a href=\"https://countrymusichalloffame.org/hall-of-fame/members/\" aria-current=\"page\">Members</a></li>\\n\\t<li id=\"menu-item-7485\" class=\"menu-item menu-item-type-post_type menu-item-object-page menu-item-7485\"><a href=\"https://countrymusichalloffame.org/hall-of-fame/hall-of-fame-rotunda/induction-ceremony-medallion/\">Induction: Medallion Ceremony</a></li>\\n\\t<li id=\"menu-item-7483\" class=\"menu-item menu-item-type-post_type menu-item-object-page menu-item-7483\"><a href=\"https://countrymusichalloffame.org/hall-of-fame/hall-of-fame-rotunda/election-process/\">Election Process</a></li>\\n\\t<li id=\"menu-item-39\" class=\"menu-item menu-item-type-post_type menu-item-object-page menu-item-has-children menu-item-39\"><a href=\"https://countrymusichalloffame.org/hall-of-fame/hall-of-fame-rotunda/\">Hall of Fame Rotunda</a>\\n\\t<ul class=\"sub-menu\">\\n\\t\\t<li id=\"menu-item-12695\" class=\"menu-item menu-item-type-post_type menu-item-object-page menu-item-12695\"><a href=\"https://countrymusichalloffame.org/architecture/\">Architecture</a></li>\\n\\t\\t<li id=\"menu-item-12589\" class=\"menu-item menu-item-type-post_type menu-item-object-page menu-item-12589\"><a href=\"https://countrymusichalloffame.org/plaques/\">Plaques</a></li>\\n\\t</ul>\\n</li>\\n\\t<li id=\"menu-item-13399\" class=\"menu-item menu-item-type-post_type menu-item-object-page menu-item-has-children menu-item-13399\"><a href=\"https://countrymusichalloffame.org/circle-guard/\">Circle Guard</a>\\n\\t<ul class=\"sub-menu\">\\n\\t\\t<li id=\"menu-item-13400\" class=\"menu-item menu-item-type-post_type menu-item-object-page menu-item-13400\"><a href=\"https://countrymusichalloffame.org/rite-of-remembrance/\">Rite of Remembrance and Salute</a></li>\\n\\t\\t<li id=\"menu-item-13401\" class=\"menu-item menu-item-type-post_type menu-item-object-page menu-item-13401\"><a href=\"https://countrymusichalloffame.org/ceremonial-stole/\">Ceremonial Stole</a></li>\\n\\t</ul>\\n</li>\\n\\t<li id=\"menu-item-16988\" class=\"menu-item menu-item-type-custom menu-item-object-custom menu-item-16988\"><a href=\"https://countrymusichalloffame.org/donate\">Support the Hall</a></li>\\n</ul>\\n</li>\\n<li id=\"menu-item-37\" class=\"menu-item menu-item-type-post_type menu-item-object-page menu-item-has-children menu-item-37\"><a href=\"https://countrymusichalloffame.org/collections/\">Collections</a>\\n<ul class=\"sub-menu\">\\n\\t<li id=\"menu-item-672\" class=\"menu-item menu-item-type-custom menu-item-object-custom menu-item-672\"><a target=\"_blank\" href=\"http://digi.countrymusichalloffame.org/\">Digital Archive</a></li>\\n\\t<li id=\"menu-item-738\" class=\"menu-item menu-item-type-post_type menu-item-object-page menu-item-738\"><a href=\"https://countrymusichalloffame.org/collections/moving-image-collection/\">Moving Image Collection</a></li>\\n\\t<li id=\"menu-item-1667\" class=\"menu-item menu-item-type-post_type menu-item-object-page menu-item-1667\"><a href=\"https://countrymusichalloffame.org/collections/bob-pinson-recorded-sound-collection/\">Bob Pinson Recorded Sound Collection</a></li>\\n\\t<li id=\"menu-item-740\" class=\"menu-item menu-item-type-post_type menu-item-object-page menu-item-740\"><a href=\"https://countrymusichalloffame.org/collections/photographs/\">Photographs</a></li>\\n\\t<li id=\"menu-item-744\" class=\"menu-item menu-item-type-custom menu-item-object-custom menu-item-744\"><a href=\"https://artsandculture.google.com/partner/country-music-hall-of-fame\">Google Arts &#038; Culture</a></li>\\n\\t<li id=\"menu-item-17951\" class=\"menu-item menu-item-type-post_type menu-item-object-page menu-item-17951\"><a href=\"https://countrymusichalloffame.org/collectionsdonations/\">Donate to the Collection</a></li>\\n</ul>\\n</li>\\n<li id=\"menu-item-41\" class=\"menu-item menu-item-type-post_type menu-item-object-page menu-item-has-children menu-item-41\"><a href=\"https://countrymusichalloffame.org/education/\">Education</a>\\n<ul class=\"sub-menu\">\\n\\t<li id=\"menu-item-43\" class=\"menu-item menu-item-type-post_type menu-item-object-page menu-item-has-children menu-item-43\"><a href=\"https://countrymusichalloffame.org/education/school-programs/\">School Programs</a>\\n\\t<ul class=\"sub-menu\">\\n\\t\\t<li id=\"menu-item-13277\" class=\"menu-item menu-item-type-custom menu-item-object-custom menu-item-13277\"><a href=\"https://countrymusichalloffame.org/plan-your-visit/field-trips/\">Plan A Field Trip</a></li>\\n\\t</ul>\\n</li>\\n\\t<li id=\"menu-item-44\" class=\"menu-item menu-item-type-post_type menu-item-object-page menu-item-44\"><a href=\"https://countrymusichalloffame.org/education/distance-learning/\">Distance &#038; Virtual Learning</a></li>\\n\\t<li id=\"menu-item-21432\" class=\"menu-item menu-item-type-custom menu-item-object-custom menu-item-21432\"><a href=\"https://countrymusichalloffame.org/wordsandmusic/\">Words &#038; Music</a></li>\\n\\t<li id=\"menu-item-21421\" class=\"menu-item menu-item-type-post_type menu-item-object-page menu-item-21421\"><a href=\"https://countrymusichalloffame.org/education/teacher-resource-portal/\">Teacher &#038; Student Resource Portal</a></li>\\n\\t<li id=\"menu-item-7492\" class=\"menu-item menu-item-type-post_type menu-item-object-page menu-item-7492\"><a href=\"https://countrymusichalloffame.org/plan-your-visit/exhibits-activities/family-youth-programs/\">Youth &#038; Family Programs</a></li>\\n\\t<li id=\"menu-item-45\" class=\"menu-item menu-item-type-post_type menu-item-object-page menu-item-45\"><a href=\"https://countrymusichalloffame.org/education/community-library-programs/\">Community &#038; Library Programs</a></li>\\n\\t<li id=\"menu-item-742\" class=\"menu-item menu-item-type-post_type menu-item-object-page menu-item-742\"><a href=\"https://countrymusichalloffame.org/education/instruments/\">Instruments</a></li>\\n</ul>\\n</li>\\n<li id=\"menu-item-48\" class=\"menu-item menu-item-type-post_type menu-item-object-page menu-item-has-children menu-item-48\"><a href=\"https://countrymusichalloffame.org/watch-listen/\">Watch &#038; Listen</a>\\n<ul class=\"sub-menu\">\\n\\t<li id=\"menu-item-21275\" class=\"menu-item menu-item-type-custom menu-item-object-custom menu-item-21275\"><a href=\"https://watch.countrymusichalloffame.org/browse\">Videos</a></li>\\n\\t<li id=\"menu-item-72\" class=\"menu-item menu-item-type-post_type menu-item-object-page menu-item-72\"><a href=\"https://countrymusichalloffame.org/podcasts/\">Podcasts</a></li>\\n\\t<li id=\"menu-item-13691\" class=\"menu-item menu-item-type-post_type menu-item-object-page menu-item-13691\"><a href=\"https://countrymusichalloffame.org/watch-listen/videos/live-streaming/\">Livestreams</a></li>\\n</ul>\\n</li>\\n<li id=\"menu-item-46\" class=\"hide-item menu-item menu-item-type-post_type menu-item-object-page menu-item-has-children menu-item-46\"><a href=\"https://countrymusichalloffame.org/plan-your-visit/\">Plan Your Visit</a>\\n<ul class=\"sub-menu\">\\n\\t<li id=\"menu-item-18020\" class=\"menu-item menu-item-type-post_type menu-item-object-page menu-item-18020\"><a href=\"https://countrymusichalloffame.org/covid-19-policies-and-procedures/\">COVID-19 Policies and Procedures</a></li>\\n\\t<li id=\"menu-item-21127\" class=\"menu-item menu-item-type-post_type menu-item-object-page menu-item-21127\"><a href=\"https://countrymusichalloffame.org/museum-policies-accessibility-faq/\">Policies, Accessibility &#038; FAQ</a></li>\\n\\t<li id=\"menu-item-9227\" class=\"menu-item menu-item-type-post_type menu-item-object-page menu-item-9227\"><a href=\"https://countrymusichalloffame.org/current-exhibits/\">Current Exhibits</a></li>\\n\\t<li id=\"menu-item-7490\" class=\"menu-item menu-item-type-custom menu-item-object-custom menu-item-7490\"><a href=\"https://countrymusichalloffame.org/plan-your-visit/exhibits-activities/calendar/\">Calendar</a></li>\\n\\t<li id=\"menu-item-2081\" class=\"menu-item menu-item-type-custom menu-item-object-custom menu-item-2081\"><a href=\"https://cmhof.imgix.net/content/uploads/2020/08/MUS_OnProp_ReOpening_Maps_20_Rev.pdf\">Download Visitor&#8217;s Guide</a></li>\\n\\t<li id=\"menu-item-7234\" class=\"menu-item menu-item-type-post_type menu-item-object-page menu-item-7234\"><a href=\"https://countrymusichalloffame.org/community-counts-2/\">Locals Admission</a></li>\\n\\t<li id=\"menu-item-544\" class=\"menu-item menu-item-type-post_type menu-item-object-page menu-item-544\"><a href=\"https://countrymusichalloffame.org/plan-your-visit/international-visitors/\">International Visitors</a></li>\\n\\t<li id=\"menu-item-13079\" class=\"menu-item menu-item-type-custom menu-item-object-custom menu-item-13079\"><a href=\"https://countrymusichalloffame.org/plan-your-visit/exhibits-activities/family-youth-programs/\">Youth &#038; Family Programs</a></li>\\n\\t<li id=\"menu-item-7491\" class=\"menu-item menu-item-type-post_type menu-item-object-page menu-item-7491\"><a href=\"https://countrymusichalloffame.org/plan-your-visit/exhibits-activities/public-programs/\">Public Programs</a></li>\\n\\t<li id=\"menu-item-543\" class=\"menu-item menu-item-type-post_type menu-item-object-page menu-item-543\"><a href=\"https://countrymusichalloffame.org/plan-your-visit/hours-directions-parking/\">Hours, Directions &#038; Parking</a></li>\\n\\t<li id=\"menu-item-546\" class=\"menu-item menu-item-type-post_type menu-item-object-page menu-item-546\"><a href=\"https://countrymusichalloffame.org/plan-your-visit/shopping-dining/\">Shopping &#038; Dining</a></li>\\n\\t<li id=\"menu-item-541\" class=\"menu-item menu-item-type-post_type menu-item-object-page menu-item-541\"><a href=\"https://countrymusichalloffame.org/plan-your-visit/group-tours/\">Group Tours</a></li>\\n\\t<li id=\"menu-item-540\" class=\"menu-item menu-item-type-post_type menu-item-object-page menu-item-540\"><a href=\"https://countrymusichalloffame.org/plan-your-visit/field-trips/\">Field Trips</a></li>\\n\\t<li id=\"menu-item-573\" class=\"menu-item menu-item-type-custom menu-item-object-custom menu-item-573\"><a href=\"https://reservations.arestravel.com/site/welcome/9509/lodging\">Hotel Packages</a></li>\\n</ul>\\n</li>\\n<li id=\"menu-item-19266\" class=\"menu-item menu-item-type-custom menu-item-object-custom menu-item-19266\"><a href=\"https://shop.countrymusichalloffame.org/\">Shop</a></li>\\n<li id=\"menu-item-16989\" class=\"menu-item menu-item-type-custom menu-item-object-custom menu-item-16989\"><a href=\"https://secure.countrymusichalloffame.org/donate/q/donate\">Donate</a></li>\\n<li id=\"menu-item-47\" class=\"action-nav-item hide-item menu-item menu-item-type-post_type menu-item-object-page menu-item-47\"><a href=\"https://countrymusichalloffame.org/buy-tickets/\">Buy Tickets</a></li>\\n</ul></div>\\n                                    <div class=\"mobile-member-links\">\\n                        <div class=\"menu-member-navigation-secondary-container\"><ul id=\"menu-member-navigation-secondary\" class=\"menu\"><li id=\"menu-item-11459\" class=\"menu-item menu-item-type-post_type menu-item-object-page menu-item-11459\"><a href=\"https://countrymusichalloffame.org/plan-your-visit/\">Plan Your Visit</a></li>\\n<li id=\"menu-item-19604\" class=\"menu-item menu-item-type-post_type menu-item-object-page menu-item-19604\"><a href=\"https://countrymusichalloffame.org/venue-rental/\">Venue Rental</a></li>\\n</ul></div>                    </div>\\n                \\n                                    <div class=\"mobile-member-links\">\\n                        <div class=\"menu-member-navigation-container\"><ul id=\"menu-member-navigation-1\" class=\"menu\"><li id=\"menu-item-392\" class=\"menu-item menu-item-type-custom menu-item-object-custom menu-item-392\"><a href=\"/support/membership/\">Become a Museum Member</a></li>\\n<li id=\"menu-item-393\" class=\"menu-item menu-item-type-custom menu-item-object-custom menu-item-393\"><a href=\"/tickets-sign-in\">Museum Member Log In</a></li>\\n</ul></div>                    </div>\\n                                <div class=\"mobile-search-input\">\\n                    <form method=\"get\" role=\"search\" action=\"https://countrymusichalloffame.org/\" title=\"Type and press Enter to search.\">\\n                        <input type=\"search\" class=\"fl-search-input form-control\" name=\"s\" value=\"Search\" onfocus=\"if (this.value == \\'Search\\') { this.value = \\'\\'; }\" onblur=\"if (this.value == \\'\\') this.value=\\'Search\\';\" />\\n                    </form>\\n                </div>\\n\\n            </div>\\n        </div>\\n    </div>\\n\\n    <div class=\"mobile-sticky-nav-container\">\\n        <div class=\"menu-mobile-sticky-navigation-container\"><ul id=\"menu-mobile-sticky-navigation\" class=\"menu\"><li id=\"menu-item-396\" class=\"menu-item menu-item-type-post_type menu-item-object-page menu-item-396\"><a href=\"https://countrymusichalloffame.org/plan-your-visit/\">Plan Your Visit</a></li>\\n<li id=\"menu-item-397\" class=\"menu-item menu-item-type-custom menu-item-object-custom menu-item-397\"><a target=\"_blank\" href=\"https://shop.countrymusichalloffame.org\">Shop</a></li>\\n<li id=\"menu-item-6277\" class=\"action-nav-item menu-item menu-item-type-custom menu-item-object-custom menu-item-6277\"><a href=\"https://countrymusichalloffame.org/buy-tickets/\">Buy Tickets</a></li>\\n</ul></div>    </div>\\n    <!-- End Mobile Nav For Main Site-->\\n\\n\\n    \\t<div class=\"fl-page-content\" itemprop=\"mainContentOfPage\">\\n\\n\\t\\t\\n<div class=\"fl-content-full container\">\\n\\t<div class=\"row\">\\n\\t\\t<div class=\"fl-content col-md-12\">\\n\\t\\t\\t<article class=\"fl-post post-12 page type-page status-publish hentry\" id=\"fl-post-12\" itemscope=\"itemscope\" itemtype=\"https://schema.org/CreativeWork\">\\n\\n\\t\\t\\t<div class=\"fl-post-content clearfix\" itemprop=\"text\">\\n\\t\\t\\n\\t\\t\\t<div class=\"fl-builder-content fl-builder-content-12 fl-builder-content-primary fl-builder-global-templates-locked\" data-post-id=\"12\"><div class=\"fl-row fl-row-full-width fl-row-bg-none fl-node-5c919a03d1f54 fbyf-mixed-content-hero-wrapper\" data-node=\"5c919a03d1f54\">\\n\\t<div class=\"fl-row-content-wrap\">\\n\\t\\t\\t\\t\\t\\t<div class=\"fl-row-content fl-row-fixed-width fl-node-content\">\\n\\t\\t\\n<div class=\"fl-col-group fl-node-5c919a03d1f59\" data-node=\"5c919a03d1f59\">\\n\\t\\t\\t<div class=\"fl-col fl-node-5c919a03d1f5b fl-col-has-cols\" data-node=\"5c919a03d1f5b\">\\n\\t<div class=\"fl-col-content fl-node-content\">\\n\\t<div class=\"fl-module fl-module-fbyf-mixed-content-hero fl-node-5c919a03d1f5d\" data-node=\"5c919a03d1f5d\">\\n\\t<div class=\"fl-module-content fl-node-content\">\\n\\t\\t<div class=\"fbyf-mixed-content-hero-wrapper\"> \\n    <div class=\"mixed-content-hero\">\\n                    <div class=\"hero-left\">\\n                <div class=\"fl-rich-text detail-wrapper\"> \\n                                        \\n                    <h1>Members</h1>\\n\\n                                            <div class=\"content-wrapper\">\\n                            <p><p>Election to the Country Music Hall of Fame is country music\\'s highest honor. The\\xc2\\xa0Country Music Association\\xc2\\xa0(CMA), the country music industry\\'s trade organization, created the accolade to recognize significant contributions to the advancement of country music by individuals in both the creative and business communities. The first members\\xe2\\x80\\x94Jimmie Rodgers, Fred Rose, and Hank Williams\\xe2\\x80\\x94were inducted in 1961.</p></p>\\n                        </div>\\n                    \\n                </div>\\n            </div>\\n\\n            <div class=\"hero-right\">\\n                <img src=\"https://cmhof.imgix.net/content/uploads/2019/04/CMHOF-PressReleases_Members-Header3.jpg\">\\n            </div>\\n            </div>\\n</div>\\n\\n\\t</div>\\n</div>\\n\\n<div class=\"fl-col-group fl-node-5f060fd33fbcf fl-col-group-nested\" data-node=\"5f060fd33fbcf\">\\n\\t\\t\\t<div class=\"fl-col fl-node-5f060fd33fc5a\" data-node=\"5f060fd33fc5a\">\\n\\t<div class=\"fl-col-content fl-node-content\">\\n\\t\\t</div>\\n</div>\\n\\t</div>\\n\\t</div>\\n</div>\\n\\t</div>\\n\\t\\t</div>\\n\\t</div>\\n</div>\\n<div class=\"fl-row fl-row-full-width fl-row-bg-none fl-node-5d41b5ae4a7d0\" data-node=\"5d41b5ae4a7d0\">\\n\\t<div class=\"fl-row-content-wrap\">\\n\\t\\t\\t\\t\\t\\t<div class=\"fl-row-content fl-row-fixed-width fl-node-content\">\\n\\t\\t\\n<div class=\"fl-col-group fl-node-5d41b5ae51886\" data-node=\"5d41b5ae51886\">\\n\\t\\t\\t<div class=\"fl-col fl-node-5d41b5ae5191f\" data-node=\"5d41b5ae5191f\">\\n\\t<div class=\"fl-col-content fl-node-content\">\\n\\t\\t</div>\\n</div>\\n\\t</div>\\n\\t\\t</div>\\n\\t</div>\\n</div>\\n<div class=\"fl-row fl-row-full-width fl-row-bg-none fl-node-5f06103dc89cb\" data-node=\"5f06103dc89cb\">\\n\\t<div class=\"fl-row-content-wrap\">\\n\\t\\t\\t\\t\\t\\t<div class=\"fl-row-content fl-row-fixed-width fl-node-content\">\\n\\t\\t\\n<div class=\"fl-col-group fl-node-5f06103dd2136\" data-node=\"5f06103dd2136\">\\n\\t\\t\\t<div class=\"fl-col fl-node-5f06103dd21c2\" data-node=\"5f06103dd21c2\">\\n\\t<div class=\"fl-col-content fl-node-content\">\\n\\t\\t</div>\\n</div>\\n\\t</div>\\n\\t\\t</div>\\n\\t</div>\\n</div>\\n<div class=\"fl-row fl-row-full-width fl-row-bg-none fl-node-5f061031d0fb8\" data-node=\"5f061031d0fb8\">\\n\\t<div class=\"fl-row-content-wrap\">\\n\\t\\t\\t\\t\\t\\t<div class=\"fl-row-content fl-row-fixed-width fl-node-content\">\\n\\t\\t\\n<div class=\"fl-col-group fl-node-5f061031da50a\" data-node=\"5f061031da50a\">\\n\\t\\t\\t<div class=\"fl-col fl-node-5f061031da5b0\" data-node=\"5f061031da5b0\">\\n\\t<div class=\"fl-col-content fl-node-content\">\\n\\t\\t</div>\\n</div>\\n\\t</div>\\n\\t\\t</div>\\n\\t</div>\\n</div>\\n<div class=\"fl-row fl-row-full-width fl-row-bg-none fl-node-5f061022812f9\" data-node=\"5f061022812f9\">\\n\\t<div class=\"fl-row-content-wrap\">\\n\\t\\t\\t\\t\\t\\t<div class=\"fl-row-content fl-row-fixed-width fl-node-content\">\\n\\t\\t\\n<div class=\"fl-col-group fl-node-5f061022896c0\" data-node=\"5f061022896c0\">\\n\\t\\t\\t<div class=\"fl-col fl-node-5f0610228974e\" data-node=\"5f0610228974e\">\\n\\t<div class=\"fl-col-content fl-node-content\">\\n\\t\\t</div>\\n</div>\\n\\t</div>\\n\\t\\t</div>\\n\\t</div>\\n</div>\\n<div class=\"fl-row fl-row-full-width fl-row-bg-none fl-node-5f06101f7a0fa\" data-node=\"5f06101f7a0fa\">\\n\\t<div class=\"fl-row-content-wrap\">\\n\\t\\t\\t\\t\\t\\t<div class=\"fl-row-content fl-row-fixed-width fl-node-content\">\\n\\t\\t\\n<div class=\"fl-col-group fl-node-5f06101f8216b\" data-node=\"5f06101f8216b\">\\n\\t\\t\\t<div class=\"fl-col fl-node-5f06101f821f6\" data-node=\"5f06101f821f6\">\\n\\t<div class=\"fl-col-content fl-node-content\">\\n\\t\\t</div>\\n</div>\\n\\t</div>\\n\\t\\t</div>\\n\\t</div>\\n</div>\\n<div class=\"fl-row fl-row-full-width fl-row-bg-none fl-node-5f060faa133bb\" data-node=\"5f060faa133bb\">\\n\\t<div class=\"fl-row-content-wrap\">\\n\\t\\t\\t\\t\\t\\t<div class=\"fl-row-content fl-row-fixed-width fl-node-content\">\\n\\t\\t\\n<div class=\"fl-col-group fl-node-5f060faa1a508\" data-node=\"5f060faa1a508\">\\n\\t\\t\\t<div class=\"fl-col fl-node-5f060faa1a599 fl-col-has-cols\" data-node=\"5f060faa1a599\">\\n\\t<div class=\"fl-col-content fl-node-content\">\\n\\t<div class=\"fl-module fl-module-rich-text fl-node-5f060fb1c3041\" data-node=\"5f060fb1c3041\">\\n\\t<div class=\"fl-module-content fl-node-content\">\\n\\t\\t<div class=\"fl-rich-text\">\\n\\t<p><strong>Interested in supporting the Museum through our Annual Fund or interested in Museum member benefits?</strong></p>\\n</div>\\n\\t</div>\\n</div>\\n\\n<div class=\"fl-col-group fl-node-5f060fd7edf56 fl-col-group-nested\" data-node=\"5f060fd7edf56\">\\n\\t\\t\\t<div class=\"fl-col fl-node-5f060fd7ee04a fl-col-small\" data-node=\"5f060fd7ee04a\">\\n\\t<div class=\"fl-col-content fl-node-content\">\\n\\t<div class=\"fl-module fl-module-fbyf-button-module fl-node-5f060fe578e0b\" data-node=\"5f060fe578e0b\">\\n\\t<div class=\"fl-module-content fl-node-content\">\\n\\t\\t<div class=\"fbyf-button-module\"> \\n    \\n    <!-- Single regular button -->\\n           \\n        \\n                                    <div class=\"fbyf-btn-wrapper inline-button inline-button_centered\"> \\n                    <a href=\"https://secure.countrymusichalloffame.org/donate/q/donate\"> Donate</a>\\n                </div>\\n                    \\n    \\n    <!-- Inline regular buttons -->\\n    \\n    <!-- Single text button -->\\n    \\n    <!-- Inline text button -->\\n    </div>\\n\\t</div>\\n</div>\\n\\t</div>\\n</div>\\n\\t\\t\\t<div class=\"fl-col fl-node-5f060fd7ee050 fl-col-small\" data-node=\"5f060fd7ee050\">\\n\\t<div class=\"fl-col-content fl-node-content\">\\n\\t<div class=\"fl-module fl-module-fbyf-button-module fl-node-5f061001b7e36\" data-node=\"5f061001b7e36\">\\n\\t<div class=\"fl-module-content fl-node-content\">\\n\\t\\t<div class=\"fbyf-button-module\"> \\n    \\n    <!-- Single regular button -->\\n           \\n        \\n                                    <div class=\"fbyf-btn-wrapper inline-button inline-button_centered\"> \\n                    <a href=\"https://countrymusichalloffame.org/support/membership/general-membership/\"> Become a Museum Member</a>\\n                </div>\\n                    \\n    \\n    <!-- Inline regular buttons -->\\n    \\n    <!-- Single text button -->\\n    \\n    <!-- Inline text button -->\\n    </div>\\n\\t</div>\\n</div>\\n\\t</div>\\n</div>\\n\\t</div>\\n\\t</div>\\n</div>\\n\\t</div>\\n\\t\\t</div>\\n\\t</div>\\n</div>\\n<div class=\"fl-row fl-row-full-width fl-row-bg-none fl-node-5c939be1e129d\" data-node=\"5c939be1e129d\">\\n\\t<div class=\"fl-row-content-wrap\">\\n\\t\\t\\t\\t\\t\\t<div class=\"fl-row-content fl-row-full-width fl-node-content\">\\n\\t\\t\\n<div class=\"fl-col-group fl-node-5c939be1e37f6\" data-node=\"5c939be1e37f6\">\\n\\t\\t\\t<div class=\"fl-col fl-node-5c939be1e3899\" data-node=\"5c939be1e3899\">\\n\\t<div class=\"fl-col-content fl-node-content\">\\n\\t<div class=\"fl-module fl-module-html fl-node-5c939be1e1065\" data-node=\"5c939be1e1065\">\\n\\t<div class=\"fl-module-content fl-node-content\">\\n\\t\\t<div class=\"fl-html\">\\n\\t\\n    <!-- Card Grid Container -->\\n    <div class=\"vertical-cards-container\">\\n    \\n      <!-- Artist Search -->\\n      <div style=\"width: 100%;\">\\n          <div class=\"custom-search\">\\n    <form method=\"get\" role=\"search\" action=\"https://countrymusichalloffame.org/\" title=\"Type and press Enter to search.\">\\n      <input type=\"search\" class=\"fl-search-input form-control\" name=\"s\" value=\"Search\" onfocus=\"if (this.value == \\'Search\\') { this.value = \\'\\'; }\" onblur=\"if (this.value == \\'\\') this.value=\\'Search\\';\" />\\n        <input type=\"hidden\" name=\"post_type\" value=\"artist\" />\\n    </form>\\n  </div>\\n      </div>\\n    \\n                \\n        <!-- Single Card -->\\n        <a href=\" https://countrymusichalloffame.org/artist/roy-acuff/ \">\\n          <div class=\"vertical-cards-col\">\\n            <div class=\"vertical-card\">\\n              <div class=\"vertical-card_image\">\\n                                  <div class=\"vertical-card_image-container\" style=\"background: url(\\'https://cmhof.imgix.net/content/uploads/2019/03/11072232/Acuff_Roy.jpg\\');\"></div>\\n                              </div>\\n              <div class=\"vertical-card_content\">\\n                <div class=\"vertical-card_content--title\">\\n                  <h3>Roy Acuff</h3>\\n                </div>\\n                <div class=\"vertical-card_content--copy\">\\n                  <p>\\n                    Inducted 1962                  </p>\\n                </div>\\n                <div class=\"fbyf-btn-wrapper inline-text\"> \\n                  <a href=\"https://countrymusichalloffame.org/artist/roy-acuff/\"> \\n                    <span>Learn More</span>\\n                    <svg width=\"15px\" height=\"15px\" viewBox=\"0 0 15 15\" version=\"1.1\" xmlns=\"http://www.w3.org/2000/svg\" xmlns:xlink=\"http://www.w3.org/1999/xlink\">\\n                      <g id=\"Symbols\" stroke=\"none\" stroke-width=\"1\" fill=\"none\" fill-rule=\"evenodd\">\\n                        <g id=\"Icon/CMHOF/arrow-right\">\\n                            <rect id=\"Rectangle\" x=\"0\" y=\"0\" width=\"15\" height=\"15\"></rect>\\n                            <polygon id=\"Fill-1\" fill=\"#F0B23A\" points=\"8.59732882 13.03125 8.59732882 9.79762459 2 9.79762459 2 4.25168919 8.59732882 4.25168919 8.59732882 1 13.96875 7.01562616\"></polygon>\\n                        </g>\\n                      </g>\\n                    </svg>\\n                  </a>\\n                </div>\\n              </div>\\n            </div>\\n          </div>\\n        </a>\\n        <!-- End Single Card -->\\n\\n                \\n        <!-- Single Card -->\\n        <a href=\" https://countrymusichalloffame.org/artist/alabama/ \">\\n          <div class=\"vertical-cards-col\">\\n            <div class=\"vertical-card\">\\n              <div class=\"vertical-card_image\">\\n                                  <div class=\"vertical-card_image-container\" style=\"background: url(\\'https://cmhof.imgix.net/content/uploads/2019/03/11072214/Alabama.jpg\\');\"></div>\\n                              </div>\\n              <div class=\"vertical-card_content\">\\n                <div class=\"vertical-card_content--title\">\\n                  <h3>Alabama</h3>\\n                </div>\\n                <div class=\"vertical-card_content--copy\">\\n                  <p>\\n                    Inducted 2005                  </p>\\n                </div>\\n                <div class=\"fbyf-btn-wrapper inline-text\"> \\n                  <a href=\"https://countrymusichalloffame.org/artist/alabama/\"> \\n                    <span>Learn More</span>\\n                    <svg width=\"15px\" height=\"15px\" viewBox=\"0 0 15 15\" version=\"1.1\" xmlns=\"http://www.w3.org/2000/svg\" xmlns:xlink=\"http://www.w3.org/1999/xlink\">\\n                      <g id=\"Symbols\" stroke=\"none\" stroke-width=\"1\" fill=\"none\" fill-rule=\"evenodd\">\\n                        <g id=\"Icon/CMHOF/arrow-right\">\\n                            <rect id=\"Rectangle\" x=\"0\" y=\"0\" width=\"15\" height=\"15\"></rect>\\n                            <polygon id=\"Fill-1\" fill=\"#F0B23A\" points=\"8.59732882 13.03125 8.59732882 9.79762459 2 9.79762459 2 4.25168919 8.59732882 4.25168919 8.59732882 1 13.96875 7.01562616\"></polygon>\\n                        </g>\\n                      </g>\\n                    </svg>\\n                  </a>\\n                </div>\\n              </div>\\n            </div>\\n          </div>\\n        </a>\\n        <!-- End Single Card -->\\n\\n                \\n        <!-- Single Card -->\\n        <a href=\" https://countrymusichalloffame.org/artist/bill-anderson/ \">\\n          <div class=\"vertical-cards-col\">\\n            <div class=\"vertical-card\">\\n              <div class=\"vertical-card_image\">\\n                                  <div class=\"vertical-card_image-container\" style=\"background: url(\\'https://cmhof.imgix.net/content/uploads/2019/03/11072215/Anderson_Bill.jpg\\');\"></div>\\n                              </div>\\n              <div class=\"vertical-card_content\">\\n                <div class=\"vertical-card_content--title\">\\n                  <h3>Bill Anderson</h3>\\n                </div>\\n                <div class=\"vertical-card_content--copy\">\\n                  <p>\\n                    Inducted 2001                  </p>\\n                </div>\\n                <div class=\"fbyf-btn-wrapper inline-text\"> \\n                  <a href=\"https://countrymusichalloffame.org/artist/bill-anderson/\"> \\n                    <span>Learn More</span>\\n                    <svg width=\"15px\" height=\"15px\" viewBox=\"0 0 15 15\" version=\"1.1\" xmlns=\"http://www.w3.org/2000/svg\" xmlns:xlink=\"http://www.w3.org/1999/xlink\">\\n                      <g id=\"Symbols\" stroke=\"none\" stroke-width=\"1\" fill=\"none\" fill-rule=\"evenodd\">\\n                        <g id=\"Icon/CMHOF/arrow-right\">\\n                            <rect id=\"Rectangle\" x=\"0\" y=\"0\" width=\"15\" height=\"15\"></rect>\\n                            <polygon id=\"Fill-1\" fill=\"#F0B23A\" points=\"8.59732882 13.03125 8.59732882 9.79762459 2 9.79762459 2 4.25168919 8.59732882 4.25168919 8.59732882 1 13.96875 7.01562616\"></polygon>\\n                        </g>\\n                      </g>\\n                    </svg>\\n                  </a>\\n                </div>\\n              </div>\\n            </div>\\n          </div>\\n        </a>\\n        <!-- End Single Card -->\\n\\n                \\n        <!-- Single Card -->\\n        <a href=\" https://countrymusichalloffame.org/artist/eddy-arnold/ \">\\n          <div class=\"vertical-cards-col\">\\n            <div class=\"vertical-card\">\\n              <div class=\"vertical-card_image\">\\n                                  <div class=\"vertical-card_image-container\" style=\"background: url(\\'https://cmhof.imgix.net/content/uploads/2019/03/11072215/Arnold_Eddy.jpg\\');\"></div>\\n                              </div>\\n              <div class=\"vertical-card_content\">\\n                <div class=\"vertical-card_content--title\">\\n                  <h3>Eddy Arnold</h3>\\n                </div>\\n                <div class=\"vertical-card_content--copy\">\\n                  <p>\\n                    Inducted 1966                  </p>\\n                </div>\\n                <div class=\"fbyf-btn-wrapper inline-text\"> \\n                  <a href=\"https://countrymusichalloffame.org/artist/eddy-arnold/\"> \\n                    <span>Learn More</span>\\n                    <svg width=\"15px\" height=\"15px\" viewBox=\"0 0 15 15\" version=\"1.1\" xmlns=\"http://www.w3.org/2000/svg\" xmlns:xlink=\"http://www.w3.org/1999/xlink\">\\n                      <g id=\"Symbols\" stroke=\"none\" stroke-width=\"1\" fill=\"none\" fill-rule=\"evenodd\">\\n                        <g id=\"Icon/CMHOF/arrow-right\">\\n                            <rect id=\"Rectangle\" x=\"0\" y=\"0\" width=\"15\" height=\"15\"></rect>\\n                            <polygon id=\"Fill-1\" fill=\"#F0B23A\" points=\"8.59732882 13.03125 8.59732882 9.79762459 2 9.79762459 2 4.25168919 8.59732882 4.25168919 8.59732882 1 13.96875 7.01562616\"></polygon>\\n                        </g>\\n                      </g>\\n                    </svg>\\n                  </a>\\n                </div>\\n              </div>\\n            </div>\\n          </div>\\n        </a>\\n        <!-- End Single Card -->\\n\\n                \\n        <!-- Single Card -->\\n        <a href=\" https://countrymusichalloffame.org/artist/chet-atkins/ \">\\n          <div class=\"vertical-cards-col\">\\n            <div class=\"vertical-card\">\\n              <div class=\"vertical-card_image\">\\n                                  <div class=\"vertical-card_image-container\" style=\"background: url(\\'https://cmhof.imgix.net/content/uploads/2019/03/11072216/Atkins_Chet.jpg\\');\"></div>\\n                              </div>\\n              <div class=\"vertical-card_content\">\\n                <div class=\"vertical-card_content--title\">\\n                  <h3>Chet Atkins</h3>\\n                </div>\\n                <div class=\"vertical-card_content--copy\">\\n                  <p>\\n                    Inducted 1973                  </p>\\n                </div>\\n                <div class=\"fbyf-btn-wrapper inline-text\"> \\n                  <a href=\"https://countrymusichalloffame.org/artist/chet-atkins/\"> \\n                    <span>Learn More</span>\\n                    <svg width=\"15px\" height=\"15px\" viewBox=\"0 0 15 15\" version=\"1.1\" xmlns=\"http://www.w3.org/2000/svg\" xmlns:xlink=\"http://www.w3.org/1999/xlink\">\\n                      <g id=\"Symbols\" stroke=\"none\" stroke-width=\"1\" fill=\"none\" fill-rule=\"evenodd\">\\n                        <g id=\"Icon/CMHOF/arrow-right\">\\n                            <rect id=\"Rectangle\" x=\"0\" y=\"0\" width=\"15\" height=\"15\"></rect>\\n                            <polygon id=\"Fill-1\" fill=\"#F0B23A\" points=\"8.59732882 13.03125 8.59732882 9.79762459 2 9.79762459 2 4.25168919 8.59732882 4.25168919 8.59732882 1 13.96875 7.01562616\"></polygon>\\n                        </g>\\n                      </g>\\n                    </svg>\\n                  </a>\\n                </div>\\n              </div>\\n            </div>\\n          </div>\\n        </a>\\n        <!-- End Single Card -->\\n\\n                \\n        <!-- Single Card -->\\n        <a href=\" https://countrymusichalloffame.org/artist/gene-autry/ \">\\n          <div class=\"vertical-cards-col\">\\n            <div class=\"vertical-card\">\\n              <div class=\"vertical-card_image\">\\n                                  <div class=\"vertical-card_image-container\" style=\"background: url(\\'https://cmhof.imgix.net/content/uploads/2019/03/11072216/Autry_Gene.jpg\\');\"></div>\\n                              </div>\\n              <div class=\"vertical-card_content\">\\n                <div class=\"vertical-card_content--title\">\\n                  <h3>Gene Autry</h3>\\n                </div>\\n                <div class=\"vertical-card_content--copy\">\\n                  <p>\\n                    Inducted 1969                  </p>\\n                </div>\\n                <div class=\"fbyf-btn-wrapper inline-text\"> \\n                  <a href=\"https://countrymusichalloffame.org/artist/gene-autry/\"> \\n                    <span>Learn More</span>\\n                    <svg width=\"15px\" height=\"15px\" viewBox=\"0 0 15 15\" version=\"1.1\" xmlns=\"http://www.w3.org/2000/svg\" xmlns:xlink=\"http://www.w3.org/1999/xlink\">\\n                      <g id=\"Symbols\" stroke=\"none\" stroke-width=\"1\" fill=\"none\" fill-rule=\"evenodd\">\\n                        <g id=\"Icon/CMHOF/arrow-right\">\\n                            <rect id=\"Rectangle\" x=\"0\" y=\"0\" width=\"15\" height=\"15\"></rect>\\n                            <polygon id=\"Fill-1\" fill=\"#F0B23A\" points=\"8.59732882 13.03125 8.59732882 9.79762459 2 9.79762459 2 4.25168919 8.59732882 4.25168919 8.59732882 1 13.96875 7.01562616\"></polygon>\\n                        </g>\\n                      </g>\\n                    </svg>\\n                  </a>\\n                </div>\\n              </div>\\n            </div>\\n          </div>\\n        </a>\\n        <!-- End Single Card -->\\n\\n                \\n        <!-- Single Card -->\\n        <a href=\" https://countrymusichalloffame.org/artist/deford-bailey/ \">\\n          <div class=\"vertical-cards-col\">\\n            <div class=\"vertical-card\">\\n              <div class=\"vertical-card_image\">\\n                                  <div class=\"vertical-card_image-container\" style=\"background: url(\\'https://cmhof.imgix.net/content/uploads/2019/03/11072217/Bailey_DeFord.jpg\\');\"></div>\\n                              </div>\\n              <div class=\"vertical-card_content\">\\n                <div class=\"vertical-card_content--title\">\\n                  <h3>DeFord Bailey</h3>\\n                </div>\\n                <div class=\"vertical-card_content--copy\">\\n                  <p>\\n                    Inducted 2005                  </p>\\n                </div>\\n                <div class=\"fbyf-btn-wrapper inline-text\"> \\n                  <a href=\"https://countrymusichalloffame.org/artist/deford-bailey/\"> \\n                    <span>Learn More</span>\\n                    <svg width=\"15px\" height=\"15px\" viewBox=\"0 0 15 15\" version=\"1.1\" xmlns=\"http://www.w3.org/2000/svg\" xmlns:xlink=\"http://www.w3.org/1999/xlink\">\\n                      <g id=\"Symbols\" stroke=\"none\" stroke-width=\"1\" fill=\"none\" fill-rule=\"evenodd\">\\n                        <g id=\"Icon/CMHOF/arrow-right\">\\n                            <rect id=\"Rectangle\" x=\"0\" y=\"0\" width=\"15\" height=\"15\"></rect>\\n                            <polygon id=\"Fill-1\" fill=\"#F0B23A\" points=\"8.59732882 13.03125 8.59732882 9.79762459 2 9.79762459 2 4.25168919 8.59732882 4.25168919 8.59732882 1 13.96875 7.01562616\"></polygon>\\n                        </g>\\n                      </g>\\n                    </svg>\\n                  </a>\\n                </div>\\n              </div>\\n            </div>\\n          </div>\\n        </a>\\n        <!-- End Single Card -->\\n\\n                \\n        <!-- Single Card -->\\n        <a href=\" https://countrymusichalloffame.org/artist/bobby-bare/ \">\\n          <div class=\"vertical-cards-col\">\\n            <div class=\"vertical-card\">\\n              <div class=\"vertical-card_image\">\\n                                  <div class=\"vertical-card_image-container\" style=\"background: url(\\'https://cmhof.imgix.net/content/uploads/2019/03/11072217/Bare_Bobby.jpg\\');\"></div>\\n                              </div>\\n              <div class=\"vertical-card_content\">\\n                <div class=\"vertical-card_content--title\">\\n                  <h3>Bobby Bare</h3>\\n                </div>\\n                <div class=\"vertical-card_content--copy\">\\n                  <p>\\n                    Inducted 2013                  </p>\\n                </div>\\n                <div class=\"fbyf-btn-wrapper inline-text\"> \\n                  <a href=\"https://countrymusichalloffame.org/artist/bobby-bare/\"> \\n                    <span>Learn More</span>\\n                    <svg width=\"15px\" height=\"15px\" viewBox=\"0 0 15 15\" version=\"1.1\" xmlns=\"http://www.w3.org/2000/svg\" xmlns:xlink=\"http://www.w3.org/1999/xlink\">\\n                      <g id=\"Symbols\" stroke=\"none\" stroke-width=\"1\" fill=\"none\" fill-rule=\"evenodd\">\\n                        <g id=\"Icon/CMHOF/arrow-right\">\\n                            <rect id=\"Rectangle\" x=\"0\" y=\"0\" width=\"15\" height=\"15\"></rect>\\n                            <polygon id=\"Fill-1\" fill=\"#F0B23A\" points=\"8.59732882 13.03125 8.59732882 9.79762459 2 9.79762459 2 4.25168919 8.59732882 4.25168919 8.59732882 1 13.96875 7.01562616\"></polygon>\\n                        </g>\\n                      </g>\\n                    </svg>\\n                  </a>\\n                </div>\\n              </div>\\n            </div>\\n          </div>\\n        </a>\\n        <!-- End Single Card -->\\n\\n                \\n        <!-- Single Card -->\\n        <a href=\" https://countrymusichalloffame.org/artist/johnny-bond/ \">\\n          <div class=\"vertical-cards-col\">\\n            <div class=\"vertical-card\">\\n              <div class=\"vertical-card_image\">\\n                                  <div class=\"vertical-card_image-container\" style=\"background: url(\\'https://cmhof.imgix.net/content/uploads/2019/03/11072217/Bond_Johnny.jpg\\');\"></div>\\n                              </div>\\n              <div class=\"vertical-card_content\">\\n                <div class=\"vertical-card_content--title\">\\n                  <h3>Johnny Bond</h3>\\n                </div>\\n                <div class=\"vertical-card_content--copy\">\\n                  <p>\\n                    Inducted 1999                  </p>\\n                </div>\\n                <div class=\"fbyf-btn-wrapper inline-text\"> \\n                  <a href=\"https://countrymusichalloffame.org/artist/johnny-bond/\"> \\n                    <span>Learn More</span>\\n                    <svg width=\"15px\" height=\"15px\" viewBox=\"0 0 15 15\" version=\"1.1\" xmlns=\"http://www.w3.org/2000/svg\" xmlns:xlink=\"http://www.w3.org/1999/xlink\">\\n                      <g id=\"Symbols\" stroke=\"none\" stroke-width=\"1\" fill=\"none\" fill-rule=\"evenodd\">\\n                        <g id=\"Icon/CMHOF/arrow-right\">\\n                            <rect id=\"Rectangle\" x=\"0\" y=\"0\" width=\"15\" height=\"15\"></rect>\\n                            <polygon id=\"Fill-1\" fill=\"#F0B23A\" points=\"8.59732882 13.03125 8.59732882 9.79762459 2 9.79762459 2 4.25168919 8.59732882 4.25168919 8.59732882 1 13.96875 7.01562616\"></polygon>\\n                        </g>\\n                      </g>\\n                    </svg>\\n                  </a>\\n                </div>\\n              </div>\\n            </div>\\n          </div>\\n        </a>\\n        <!-- End Single Card -->\\n\\n          </div>\\n    <!-- End Card Grid Container -->\\n\\n  \\n    <div class=\"pagination\">\\n      <span aria-current=\\'page\\' class=\\'page-numbers current\\'>1</span>\\n<a class=\\'page-numbers\\' href=\\'https://countrymusichalloffame.org/hall-of-fame/members/page/2\\'>2</a>\\n<a class=\\'page-numbers\\' href=\\'https://countrymusichalloffame.org/hall-of-fame/members/page/3\\'>3</a>\\n<a class=\\'page-numbers\\' href=\\'https://countrymusichalloffame.org/hall-of-fame/members/page/4\\'>4</a>\\n<span class=\"page-numbers dots\">&hellip;</span>\\n<a class=\\'page-numbers\\' href=\\'https://countrymusichalloffame.org/hall-of-fame/members/page/16\\'>16</a>\\n<a class=\"next page-numbers\" href=\"https://countrymusichalloffame.org/hall-of-fame/members/page/2\">\\n          <svg width=\"15px\" height=\"15px\" viewBox=\"0 0 15 15\">\\n            <g id=\"Symbols\" stroke=\"none\" stroke-width=\"1\" fill=\"none\" fill-rule=\"evenodd\">\\n              <g id=\"Icon/CMHOF/arrow-right\">\\n                <rect id=\"Rectangle\" x=\"0\" y=\"0\" width=\"15\" height=\"15\"></rect>\\n                <polygon id=\"Fill-1\" fill=\"#F0B23A\" points=\"8.59732882 13.03125 8.59732882 9.79762459 2 9.79762459 2 4.25168919 8.59732882 4.25168919 8.59732882 1 13.96875 7.01562616\"></polygon>\\n              </g>\\n            </g>\\n          </svg>\\n        </a>    </div>\\n\\n  </div>\\n\\t</div>\\n</div>\\n\\t</div>\\n</div>\\n\\t</div>\\n\\t\\t</div>\\n\\t</div>\\n</div>\\n</div>\\t\\t\\n\\t</div><!-- .fl-post-content -->\\n\\t\\n</article>\\n\\n<!-- .fl-post -->\\n\\t\\t</div>\\n\\t</div>\\n</div>\\n\\n\\n\\t</div><!-- .fl-page-content -->\\n\\t<footer class=\"fl-builder-content fl-builder-content-152 fl-builder-global-templates-locked\" data-post-id=\"152\" itemscope=\"itemscope\" itemtype=\"http://schema.org/WPFooter\" data-type=\"footer\"><div class=\"fl-row fl-row-full-width fl-row-bg-color fl-node-5c49e3c1dcf8a footer\" data-node=\"5c49e3c1dcf8a\">\\n\\t<div class=\"fl-row-content-wrap\">\\n\\t\\t\\t\\t\\t\\t<div class=\"fl-row-content fl-row-fixed-width fl-node-content\">\\n\\t\\t\\n<div class=\"fl-col-group fl-node-5c49e3c1df754\" data-node=\"5c49e3c1df754\">\\n\\t\\t\\t<div class=\"fl-col fl-node-5c49e3c1df862 fl-col-small footer-left\" data-node=\"5c49e3c1df862\">\\n\\t<div class=\"fl-col-content fl-node-content\">\\n\\t<div class=\"fl-module fl-module-menu fl-node-5c49e64884039\" data-node=\"5c49e64884039\">\\n\\t<div class=\"fl-module-content fl-node-content\">\\n\\t\\t<div class=\"fl-menu\">\\n\\t\\t<div class=\"fl-clear\"></div>\\n\\t<nav aria-label=\"Menu\" itemscope=\"itemscope\" itemtype=\"https://schema.org/SiteNavigationElement\"><ul id=\"menu-footer-navigation\" class=\"menu fl-menu-horizontal fl-toggle-none\"><li id=\"menu-item-176\" class=\"menu-item menu-item-type-post_type menu-item-object-page\"><a href=\"https://countrymusichalloffame.org/about/\">About</a></li><li id=\"menu-item-181\" class=\"menu-item menu-item-type-post_type menu-item-object-page\"><a href=\"https://countrymusichalloffame.org/support/sponsorship/\">Sponsorship</a></li><li id=\"menu-item-178\" class=\"menu-item menu-item-type-post_type menu-item-object-page\"><a href=\"https://countrymusichalloffame.org/employment/\">Employment</a></li><li id=\"menu-item-184\" class=\"menu-item menu-item-type-post_type menu-item-object-page\"><a href=\"https://countrymusichalloffame.org/support/\">Support</a></li><li id=\"menu-item-19267\" class=\"menu-item menu-item-type-post_type menu-item-object-page\"><a href=\"https://countrymusichalloffame.org/venue-rental/\">Venue Rental</a></li><li id=\"menu-item-183\" class=\"menu-item menu-item-type-post_type menu-item-object-page\"><a href=\"https://countrymusichalloffame.org/support/volunteer/\">Volunteer</a></li><li id=\"menu-item-177\" class=\"menu-item menu-item-type-post_type menu-item-object-page\"><a href=\"https://countrymusichalloffame.org/contact/\">Contact</a></li><li id=\"menu-item-180\" class=\"menu-item menu-item-type-post_type menu-item-object-page\"><a href=\"https://countrymusichalloffame.org/media/\">Media</a></li><li id=\"menu-item-179\" class=\"menu-item menu-item-type-post_type menu-item-object-page\"><a href=\"https://countrymusichalloffame.org/internships/\">Internships</a></li></ul></nav></div>\\n\\t</div>\\n</div>\\n\\t</div>\\n</div>\\n\\t\\t\\t<div class=\"fl-col fl-node-5c49e3c1df869 fl-col-small footer-right\" data-node=\"5c49e3c1df869\">\\n\\t<div class=\"fl-col-content fl-node-content\">\\n\\t<div class=\"fl-module fl-module-rich-text fl-node-5c49e8f0d9fa1 follow-text\" data-node=\"5c49e8f0d9fa1\">\\n\\t<div class=\"fl-module-content fl-node-content\">\\n\\t\\t<div class=\"fl-rich-text\">\\n\\t<p>STAY UP TO DATE</p>\\n</div>\\n\\t</div>\\n</div>\\n<div class=\"fl-module fl-module-fbyf-button-module fl-node-5c9b87f4ee249\" data-node=\"5c9b87f4ee249\">\\n\\t<div class=\"fl-module-content fl-node-content\">\\n\\t\\t<div class=\"fbyf-button-module\"> \\n    \\n    <!-- Single regular button -->\\n    \\n    <!-- Inline regular buttons -->\\n    \\n    <!-- Single text button -->\\n      \\n        \\n                    <div class=\"fbyf-btn-wrapper inline-text\"> \\n                <a href=\"https://cmhof.typeform.com/to/Dks7Gu\"> \\n                    <span>SIGN UP FOR OUR NEWSLETTER</span>\\n                    <svg width=\"15px\" height=\"15px\" viewBox=\"0 0 15 15\" version=\"1.1\" xmlns=\"http://www.w3.org/2000/svg\" xmlns:xlink=\"http://www.w3.org/1999/xlink\">\\n                        <g id=\"Symbols\" stroke=\"none\" stroke-width=\"1\" fill=\"none\" fill-rule=\"evenodd\">\\n                            <g id=\"Icon/CMHOF/arrow-right\">\\n                                <rect id=\"Rectangle\" x=\"0\" y=\"0\" width=\"15\" height=\"15\"></rect>\\n                                <polygon id=\"Fill-1\" fill=\"#F0B23A\" points=\"8.59732882 13.03125 8.59732882 9.79762459 2 9.79762459 2 4.25168919 8.59732882 4.25168919 8.59732882 1 13.96875 7.01562616\"></polygon>\\n                            </g>\\n                        </g>\\n                    </svg>\\n                </a>\\n            </div>\\n        \\n    \\n    <!-- Inline text button -->\\n    </div>\\n\\t</div>\\n</div>\\n<div class=\"fl-module fl-module-rich-text fl-node-5c9b87dd5c405 follow-text\" data-node=\"5c9b87dd5c405\">\\n\\t<div class=\"fl-module-content fl-node-content\">\\n\\t\\t<div class=\"fl-rich-text\">\\n\\t<p>FOLLOW US</p>\\n</div>\\n\\t</div>\\n</div>\\n<div class=\"fl-module fl-module-fbyf-social-icons fl-node-5c741bdd8ab3e social-media-icons-container\" data-node=\"5c741bdd8ab3e\">\\n\\t<div class=\"fl-module-content fl-node-content\">\\n\\t\\t<div class=\"fbyf-social-icons-wrapper\">\\n\\n    \\n        <div class=\"social_icon\">\\n            <a href=\"https://www.facebook.com/countrymusichof\" target=\"_blank\">\\n                <img src=\"https://cmhof.imgix.net/social/facebook.svg\">\\n            </a>\\n        </div>\\n\\n    \\n        <div class=\"social_icon\">\\n            <a href=\"https://twitter.com/countrymusichof\" target=\"_blank\">\\n                <img src=\"https://cmhof.imgix.net/social/twitter.svg\">\\n            </a>\\n        </div>\\n\\n    \\n        <div class=\"social_icon\">\\n            <a href=\"http://instagram.com/officialcmhof\" target=\"_blank\">\\n                <img src=\"https://cmhof.imgix.net/social/instagram.svg\">\\n            </a>\\n        </div>\\n\\n    \\n        <div class=\"social_icon\">\\n            <a href=\"https://www.snapchat.com/add/countrymusichof\" target=\"_blank\">\\n                <img src=\"https://cmhof.imgix.net/social/snapchat.svg\">\\n            </a>\\n        </div>\\n\\n    \\n        <div class=\"social_icon\">\\n            <a href=\"http://www.youtube.com/user/countrymusichof\" target=\"_blank\">\\n                <img src=\"https://cmhof.imgix.net/social/youtube.svg\">\\n            </a>\\n        </div>\\n\\n    \\n</div>\\n\\t</div>\\n</div>\\n\\t</div>\\n</div>\\n\\t</div>\\n\\t\\t</div>\\n\\t</div>\\n</div>\\n<div class=\"fl-row fl-row-full-width fl-row-bg-color fl-node-5c49e433e27db footer-info\" data-node=\"5c49e433e27db\">\\n\\t<div class=\"fl-row-content-wrap\">\\n\\t\\t\\t\\t\\t\\t<div class=\"fl-row-content fl-row-fixed-width fl-node-content\">\\n\\t\\t\\n<div class=\"fl-col-group fl-node-5c49e433e5f28\" data-node=\"5c49e433e5f28\">\\n\\t\\t\\t<div class=\"fl-col fl-node-5c49e42adb057 footer-text-wrapper\" data-node=\"5c49e42adb057\">\\n\\t<div class=\"fl-col-content fl-node-content\">\\n\\t<div class=\"fl-module fl-module-rich-text fl-node-5c49e4942f4a2\" data-node=\"5c49e4942f4a2\">\\n\\t<div class=\"fl-module-content fl-node-content\">\\n\\t\\t<div class=\"fl-rich-text\">\\n\\t<p style=\"text-align: center;\">Country Music Hall of Fame and Museum \\xe2\\x80\\xa2 222 Fifth Avenue South Nashville, TN 37203 \\xe2\\x80\\xa2 Phone: 615.416.2001 \\xc2\\xa92018 Country Music Hall of Fame\\xc2\\xae and Museum All Rights Reserved | <a href=\"https://countrymusichalloffame.org/privacy-policy/\">Privacy Policy</a> | <a href=\"https://countrymusichalloffame.org/terms-of-use/\">Terms Of Use</a></p>\\n</div>\\n\\t</div>\\n</div>\\n<div class=\"fl-module fl-module-rich-text fl-node-5cab5ce23b3f6\" data-node=\"5cab5ce23b3f6\">\\n\\t<div class=\"fl-module-content fl-node-content\">\\n\\t\\t<div class=\"fl-rich-text\">\\n\\t<p><a href=\"https://www.aam-us.org/\" target=\"_blank\"><img class=\"aligncenter wp-image-9376 size-full\" src=\"https://cmhof.imgix.net/content/uploads/2019/04/American-Alliance-of-Museums-Footer-1.png\" alt=\"\" width=\"55\" height=\"55\" /></a></p>\\n</div>\\n\\t</div>\\n</div>\\n\\t</div>\\n</div>\\n\\t</div>\\n\\n<div class=\"fl-col-group fl-node-5c6d72a8c5542\" data-node=\"5c6d72a8c5542\">\\n\\t\\t\\t<div class=\"fl-col fl-node-5c6d72a8c5631\" data-node=\"5c6d72a8c5631\">\\n\\t<div class=\"fl-col-content fl-node-content\">\\n\\t<div class=\"fl-module fl-module-rich-text fl-node-5c6d72a8c54e1 fbyf-copy\" data-node=\"5c6d72a8c54e1\">\\n\\t<div class=\"fl-module-content fl-node-content\">\\n\\t\\t<div class=\"fl-rich-text\">\\n\\t<p style=\"text-align: center;\">Site Designed and Developed by\\xc2\\xa0<a href=\"http://5by5agency.com/\" target=\"_blank\" rel=\"noopener\">5by5 - A Change Agency</a></p>\\n</div>\\n\\t</div>\\n</div>\\n\\t</div>\\n</div>\\n\\t</div>\\n\\t\\t</div>\\n\\t</div>\\n</div>\\n</footer>\\t</div><!-- .fl-page -->\\n<script type=\\'text/javascript\\' src=\\'https://countrymusichalloffame.org/content/plugins/5by5-plugin/mobile-nav/mobile-nav.js?ver=1.0\\'></script>\\n<script type=\\'text/javascript\\' src=\\'https://countrymusichalloffame.org/content/plugins/5by5-plugin/taxonomy-filter/taxonomy-filter.js?ver=1.0\\'></script>\\n<script type=\\'text/javascript\\' src=\\'https://countrymusichalloffame.org/content/plugins/5by5-plugin/upcoming-events/upcoming-events.js?ver=1.0.1\\'></script>\\n<script type=\\'text/javascript\\' src=\\'https://countrymusichalloffame.org/content/plugins/5by5-plugin/cookie.js?ver=1.0\\'></script>\\n<script type=\\'text/javascript\\' src=\\'https://countrymusichalloffame.org/content/plugins/5by5-plugin/player-vimeo.js?ver=1.0\\'></script>\\n<script type=\\'text/javascript\\' src=\\'https://countrymusichalloffame.org/content/uploads/bb-plugin/cache/12-layout.js?ver=de6ed36f85a1ab493dfd9b920ed5263a\\'></script>\\n<script type=\\'text/javascript\\' src=\\'https://countrymusichalloffame.org/content/plugins/cmhof-plugin/_assets/js/main.min.js?ver=1.0.0\\'></script>\\n<script type=\\'text/javascript\\' src=\\'https://countrymusichalloffame.org/content/plugins/bb-plugin/js/jquery.ba-throttle-debounce.min.js?ver=2.2.3\\'></script>\\n<script type=\\'text/javascript\\' src=\\'https://countrymusichalloffame.org/content/uploads/bb-plugin/cache/139f0ce2a36c559f47110f2fe0ad1487-layout-bundle.js?ver=2.2.3-1.2.3.4\\'></script>\\n<script src=\"https://countrymusichalloffame.org/content/themes/cmhof-theme/assets/js/compressed.min.js?ver=1.0.0\" defer async type=\"text/javascript\"></script><script type=\\'text/javascript\\' src=\\'https://countrymusichalloffame.org/content/themes/cmhof-theme/assets/js/vendor/moment-with-locales.js?ver=1.0.0\\'></script>\\n<script type=\\'text/javascript\\' src=\\'https://countrymusichalloffame.org/content/themes/cmhof-theme/assets/js/vendor/moment-timezone-with-data.js?ver=1.0.0\\'></script>\\n<script src=\"https://countrymusichalloffame.org/content/themes/cmhof-theme/assets/js/main.min.js?ver=1.0.0\" defer async type=\"text/javascript\"></script><script type=\\'text/javascript\\' src=\\'https://countrymusichalloffame.org/content/plugins/bb-plugin/js/jquery.magnificpopup.min.js?ver=2.2.3\\'></script>\\n<script type=\\'text/javascript\\' src=\\'https://countrymusichalloffame.org/content/themes/bb-theme/js/theme.min.js?ver=1.7.2\\'></script>\\n<script type=\\'text/javascript\\' src=\\'https://countrymusichalloffame.org/wp/wp-includes/js/wp-embed.min.js?ver=5.1.1\\'></script>\\n\\n      <script>\\n        var tessConfig = {};\\n\\n        try{\\n          tessConfig = {\"domain\":\"https:\\\\/\\\\/secure.countrymusichalloffame.org\",\"max_tickets\":9,\"mos\":2,\"tess_cookie_name\":\"TNEW\",\"site_id\":\"cmhof\",\"tessCookieName\":\"TNEW\",\"anonId\":\"14\",\"urls\":{\"cart\":\"\\\\/cart\\\\/details\",\"events\":\"\\\\/events\",\"session_key\":\"\\\\/api\\\\/session\\\\/sessionkey\"}};\\n        }\\n        catch (e) {\\n          console.log(\\'caught e in tessituraConfig script\\', e, tessConfig);\\n        }\\n\\n        window.tessConfig = tessConfig;\\n      </script>\\n\\n      \\n  <div id=\"cookieConsent\">\\n\\n    <div id=\"closeCookieConsent\" class=\"quick-alert-banner_content--close\">\\n\\t\\t<i class=\"fas fa-times-circle\"></i>\\n\\t</div>\\n\\n    <p>We use cookies in the following ways: (1) for system administration, (2) to assess the performance of the website, (3) to personalize your experience, content and ads, (4) to provide social media features, and (5) to analyze our traffic. You consent to our cookies if you continue to use our website.\\xc2\\xa0 Please consult instructions for your web browser to disable or block cookies, or to receive a warning before a cookie is stored on your computer or mobile device.</p>\\n\\n    <a class=\"cookie-consent\">That\\'s Fine</a>\\n</div>\\n\\n\\n\\n<script>\\n  console.log(\\'cookie_consent_popup\\');\\n    // Do not delete this code\\n    jQuery(document).ready(function( $ ) {\\n      if (!Cookies.get(\\'cookie_consent\\')) {\\n        setTimeout(function () {\\n            $(\"#cookieConsent\").fadeIn(200);\\n        }, 4000);\\n\\n        $(\"#closeCookieConsent, .cookie-consent\").click(function() {\\n            Cookies.set(\\'cookie_consent\\', \\'true\\');\\n            $(\"#cookieConsent\").fadeOut(200);\\n        });\\n      }\\n    });\\n</script>\\n\\n\\n<!-- BrowserSync. -->\\n\\n</body>\\n</html>\\n'"
      ]
     },
     "execution_count": 4,
     "metadata": {},
     "output_type": "execute_result"
    }
   ],
   "source": [
    "print(type(response))\n",
    "response.content"
   ]
  },
  {
   "cell_type": "code",
   "execution_count": 14,
   "metadata": {},
   "outputs": [
    {
     "name": "stdout",
     "output_type": "stream",
     "text": [
      "Hall of Fame Members | Country Music Hall of Fame\n"
     ]
    }
   ],
   "source": [
    "soup = BeautifulSoup(response.content, 'lxml')\n",
    "print(soup.title.text)"
   ]
  },
  {
   "cell_type": "code",
   "execution_count": 50,
   "metadata": {},
   "outputs": [
    {
     "name": "stdout",
     "output_type": "stream",
     "text": [
      "[<div class=\"vertical-card_content--title\">\n",
      "<h3>Roy Acuff</h3>\n",
      "</div>, <div class=\"vertical-card_content--title\">\n",
      "<h3>Alabama</h3>\n",
      "</div>, <div class=\"vertical-card_content--title\">\n",
      "<h3>Bill Anderson</h3>\n",
      "</div>, <div class=\"vertical-card_content--title\">\n",
      "<h3>Eddy Arnold</h3>\n",
      "</div>, <div class=\"vertical-card_content--title\">\n",
      "<h3>Chet Atkins</h3>\n",
      "</div>, <div class=\"vertical-card_content--title\">\n",
      "<h3>Gene Autry</h3>\n",
      "</div>, <div class=\"vertical-card_content--title\">\n",
      "<h3>DeFord Bailey</h3>\n",
      "</div>, <div class=\"vertical-card_content--title\">\n",
      "<h3>Bobby Bare</h3>\n",
      "</div>, <div class=\"vertical-card_content--title\">\n",
      "<h3>Johnny Bond</h3>\n",
      "</div>]\n"
     ]
    }
   ],
   "source": [
    "print(soup.find_all('div', attrs = {'class': 'vertical-card_content--title'}))"
   ]
  },
  {
   "cell_type": "code",
   "execution_count": 47,
   "metadata": {},
   "outputs": [],
   "source": [
    "artists = []"
   ]
  },
  {
   "cell_type": "markdown",
   "metadata": {},
   "source": [
    "## For loop to go through everything with the 'h3' tag and pull out the text only then add that text to my list"
   ]
  },
  {
   "cell_type": "code",
   "execution_count": 48,
   "metadata": {},
   "outputs": [
    {
     "name": "stdout",
     "output_type": "stream",
     "text": [
      "Roy Acuff\n",
      "Alabama\n",
      "Bill Anderson\n",
      "Eddy Arnold\n",
      "Chet Atkins\n",
      "Gene Autry\n",
      "DeFord Bailey\n",
      "Bobby Bare\n",
      "Johnny Bond\n"
     ]
    }
   ],
   "source": [
    "for artist in soup.find_all('h3'):\n",
    "    print(artist.text)\n",
    "    artists.append(artist.text)"
   ]
  },
  {
   "cell_type": "markdown",
   "metadata": {},
   "source": [
    "# Clean Artist list"
   ]
  },
  {
   "cell_type": "code",
   "execution_count": 49,
   "metadata": {},
   "outputs": [
    {
     "data": {
      "text/plain": [
       "['Roy Acuff',\n",
       " 'Alabama',\n",
       " 'Bill Anderson',\n",
       " 'Eddy Arnold',\n",
       " 'Chet Atkins',\n",
       " 'Gene Autry',\n",
       " 'DeFord Bailey',\n",
       " 'Bobby Bare',\n",
       " 'Johnny Bond']"
      ]
     },
     "execution_count": 49,
     "metadata": {},
     "output_type": "execute_result"
    }
   ],
   "source": [
    "artists"
   ]
  },
  {
   "cell_type": "code",
   "execution_count": 53,
   "metadata": {},
   "outputs": [
    {
     "name": "stdout",
     "output_type": "stream",
     "text": [
      "[<div class=\"vertical-card_content--copy\">\n",
      "<p>\n",
      "                    Inducted 1962                  </p>\n",
      "</div>, <div class=\"vertical-card_content--copy\">\n",
      "<p>\n",
      "                    Inducted 2005                  </p>\n",
      "</div>, <div class=\"vertical-card_content--copy\">\n",
      "<p>\n",
      "                    Inducted 2001                  </p>\n",
      "</div>, <div class=\"vertical-card_content--copy\">\n",
      "<p>\n",
      "                    Inducted 1966                  </p>\n",
      "</div>, <div class=\"vertical-card_content--copy\">\n",
      "<p>\n",
      "                    Inducted 1973                  </p>\n",
      "</div>, <div class=\"vertical-card_content--copy\">\n",
      "<p>\n",
      "                    Inducted 1969                  </p>\n",
      "</div>, <div class=\"vertical-card_content--copy\">\n",
      "<p>\n",
      "                    Inducted 2005                  </p>\n",
      "</div>, <div class=\"vertical-card_content--copy\">\n",
      "<p>\n",
      "                    Inducted 2013                  </p>\n",
      "</div>, <div class=\"vertical-card_content--copy\">\n",
      "<p>\n",
      "                    Inducted 1999                  </p>\n",
      "</div>]\n"
     ]
    }
   ],
   "source": [
    "print(soup.find_all('div', attrs = {'class': 'vertical-card_content--copy'}))"
   ]
  },
  {
   "cell_type": "markdown",
   "metadata": {},
   "source": [
    "## Trying a different method for year. Combining 2 steps from the artist section to 1 clean for loop. Assigning it to 'x' to clean up after."
   ]
  },
  {
   "cell_type": "code",
   "execution_count": 104,
   "metadata": {},
   "outputs": [
    {
     "data": {
      "text/plain": [
       "['\\n\\n                    Inducted 1962                  \\n',\n",
       " '\\n\\n                    Inducted 2005                  \\n',\n",
       " '\\n\\n                    Inducted 2001                  \\n',\n",
       " '\\n\\n                    Inducted 1966                  \\n',\n",
       " '\\n\\n                    Inducted 1973                  \\n',\n",
       " '\\n\\n                    Inducted 1969                  \\n',\n",
       " '\\n\\n                    Inducted 2005                  \\n',\n",
       " '\\n\\n                    Inducted 2013                  \\n',\n",
       " '\\n\\n                    Inducted 1999                  \\n']"
      ]
     },
     "execution_count": 104,
     "metadata": {},
     "output_type": "execute_result"
    }
   ],
   "source": [
    "x = [element.text for element in soup.find_all(\"div\", \"vertical-card_content--copy\")]\n",
    "x"
   ]
  },
  {
   "cell_type": "markdown",
   "metadata": {},
   "source": [
    "# Cleaning up the spaces and newlines. Assigning it to 'year'. "
   ]
  },
  {
   "cell_type": "code",
   "execution_count": 105,
   "metadata": {},
   "outputs": [
    {
     "name": "stdout",
     "output_type": "stream",
     "text": [
      "['Inducted 1962', 'Inducted 2005', 'Inducted 2001', 'Inducted 1966', 'Inducted 1973', 'Inducted 1969', 'Inducted 2005', 'Inducted 2013', 'Inducted 1999']\n"
     ]
    }
   ],
   "source": [
    "year = []\n",
    "for element in x:\n",
    "    year.append(element.strip())\n",
    "\n",
    "print(year)"
   ]
  },
  {
   "cell_type": "code",
   "execution_count": 115,
   "metadata": {},
   "outputs": [],
   "source": [
    "years = []\n",
    "for x in year:\n",
    "    years.append(x.replace('Inducted ',''))\n",
    "    "
   ]
  },
  {
   "cell_type": "code",
   "execution_count": 116,
   "metadata": {},
   "outputs": [
    {
     "data": {
      "text/plain": [
       "['1962', '2005', '2001', '1966', '1973', '1969', '2005', '2013', '1999']"
      ]
     },
     "execution_count": 116,
     "metadata": {},
     "output_type": "execute_result"
    }
   ],
   "source": [
    "years"
   ]
  },
  {
   "cell_type": "code",
   "execution_count": 121,
   "metadata": {},
   "outputs": [
    {
     "data": {
      "text/plain": [
       "['Roy Acuff',\n",
       " 'Alabama',\n",
       " 'Bill Anderson',\n",
       " 'Eddy Arnold',\n",
       " 'Chet Atkins',\n",
       " 'Gene Autry',\n",
       " 'DeFord Bailey',\n",
       " 'Bobby Bare',\n",
       " 'Johnny Bond']"
      ]
     },
     "execution_count": 121,
     "metadata": {},
     "output_type": "execute_result"
    }
   ],
   "source": [
    "a = [element.text for element in soup.find_all(\"div\", \"vertical-card_content--title\")]\n",
    "b = []\n",
    "for element in a:\n",
    "     b.append(element.strip())\n",
    "        \n",
    "artist_pages"
   ]
  },
  {
   "cell_type": "markdown",
   "metadata": {},
   "source": [
    "## Need to add to dataframe with clean lists"
   ]
  },
  {
   "cell_type": "code",
   "execution_count": 118,
   "metadata": {},
   "outputs": [
    {
     "data": {
      "text/html": [
       "<div>\n",
       "<style scoped>\n",
       "    .dataframe tbody tr th:only-of-type {\n",
       "        vertical-align: middle;\n",
       "    }\n",
       "\n",
       "    .dataframe tbody tr th {\n",
       "        vertical-align: top;\n",
       "    }\n",
       "\n",
       "    .dataframe thead th {\n",
       "        text-align: right;\n",
       "    }\n",
       "</style>\n",
       "<table border=\"1\" class=\"dataframe\">\n",
       "  <thead>\n",
       "    <tr style=\"text-align: right;\">\n",
       "      <th></th>\n",
       "      <th>Year Inducted</th>\n",
       "      <th>Name</th>\n",
       "    </tr>\n",
       "  </thead>\n",
       "  <tbody>\n",
       "    <tr>\n",
       "      <th>0</th>\n",
       "      <td>1962</td>\n",
       "      <td>Roy Acuff</td>\n",
       "    </tr>\n",
       "    <tr>\n",
       "      <th>1</th>\n",
       "      <td>2005</td>\n",
       "      <td>Alabama</td>\n",
       "    </tr>\n",
       "    <tr>\n",
       "      <th>2</th>\n",
       "      <td>2001</td>\n",
       "      <td>Bill Anderson</td>\n",
       "    </tr>\n",
       "    <tr>\n",
       "      <th>3</th>\n",
       "      <td>1966</td>\n",
       "      <td>Eddy Arnold</td>\n",
       "    </tr>\n",
       "    <tr>\n",
       "      <th>4</th>\n",
       "      <td>1973</td>\n",
       "      <td>Chet Atkins</td>\n",
       "    </tr>\n",
       "    <tr>\n",
       "      <th>5</th>\n",
       "      <td>1969</td>\n",
       "      <td>Gene Autry</td>\n",
       "    </tr>\n",
       "    <tr>\n",
       "      <th>6</th>\n",
       "      <td>2005</td>\n",
       "      <td>DeFord Bailey</td>\n",
       "    </tr>\n",
       "    <tr>\n",
       "      <th>7</th>\n",
       "      <td>2013</td>\n",
       "      <td>Bobby Bare</td>\n",
       "    </tr>\n",
       "    <tr>\n",
       "      <th>8</th>\n",
       "      <td>1999</td>\n",
       "      <td>Johnny Bond</td>\n",
       "    </tr>\n",
       "  </tbody>\n",
       "</table>\n",
       "</div>"
      ],
      "text/plain": [
       "  Year Inducted           Name\n",
       "0          1962      Roy Acuff\n",
       "1          2005        Alabama\n",
       "2          2001  Bill Anderson\n",
       "3          1966    Eddy Arnold\n",
       "4          1973    Chet Atkins\n",
       "5          1969     Gene Autry\n",
       "6          2005  DeFord Bailey\n",
       "7          2013     Bobby Bare\n",
       "8          1999    Johnny Bond"
      ]
     },
     "execution_count": 118,
     "metadata": {},
     "output_type": "execute_result"
    }
   ],
   "source": [
    "hof_dic = {'Year Inducted': years, 'Name': artists}\n",
    "hof_df = pd.DataFrame(hof_dic)\n",
    "hof_df"
   ]
  },
  {
   "cell_type": "markdown",
   "metadata": {},
   "source": [
    "## Now to loop through pages. \n",
    "* Needs work"
   ]
  },
  {
   "cell_type": "code",
   "execution_count": 127,
   "metadata": {},
   "outputs": [],
   "source": [
    "for i in range(2,17):      # Number of pages plus one \n",
    "    url = 'https://countrymusichalloffame.org/hall-of-fame/members/page/'\n",
    "    response = requests.get(url + str(i))\n",
    "    soup = BeautifulSoup(response.content, 'lxml')\n",
    "    \n",
    "    a = [element.text for element in soup.find_all(\"div\", \"vertical-card_content--title\")]\n",
    "    artist_pages = []\n",
    "    for element in a:\n",
    "     artist_pages.append(element.strip())\n",
    "    \n",
    "    c = [element.text for element in soup.find_all(\"div\", \"vertical-card_content--copy\")]\n",
    "    c_pages = []\n",
    "    for element in c:\n",
    "     c_pages.append(element.strip())\n",
    "\n",
    "    "
   ]
  },
  {
   "cell_type": "markdown",
   "metadata": {},
   "source": [
    "https://betterprogramming.pub/how-to-scrape-multiple-pages-of-a-website-using-a-python-web-scraper-4e2c641cff8"
   ]
  },
  {
   "cell_type": "code",
   "execution_count": null,
   "metadata": {},
   "outputs": [],
   "source": []
  }
 ],
 "metadata": {
  "kernelspec": {
   "display_name": "Python 3",
   "language": "python",
   "name": "python3"
  },
  "language_info": {
   "codemirror_mode": {
    "name": "ipython",
    "version": 3
   },
   "file_extension": ".py",
   "mimetype": "text/x-python",
   "name": "python",
   "nbconvert_exporter": "python",
   "pygments_lexer": "ipython3",
   "version": "3.8.5"
  }
 },
 "nbformat": 4,
 "nbformat_minor": 4
}
